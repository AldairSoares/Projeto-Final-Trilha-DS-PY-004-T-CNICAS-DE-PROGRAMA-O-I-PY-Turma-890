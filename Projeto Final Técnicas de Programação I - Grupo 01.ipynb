{
 "cells": [
  {
   "cell_type": "code",
   "execution_count": 2,
   "id": "b0d3a768",
   "metadata": {},
   "outputs": [],
   "source": [
    "import pandas as pd\n",
    "import numpy as np\n",
    "import warnings\n",
    "warnings.filterwarnings(\"ignore\")"
   ]
  },
  {
   "cell_type": "code",
   "execution_count": 228,
   "id": "71573036",
   "metadata": {},
   "outputs": [],
   "source": [
    "df = pd.read_csv('home_credit_default_risk_application_100000.csv')"
   ]
  },
  {
   "cell_type": "code",
   "execution_count": 229,
   "id": "da5e4106",
   "metadata": {},
   "outputs": [],
   "source": [
    "#listando as colunas que serão utilizadas para correlação\n",
    "\n",
    "selected_columns = ['SK_ID_CURR',\n",
    " 'TARGET',\n",
    " 'NAME_CONTRACT_TYPE',\n",
    " 'CODE_GENDER',\n",
    " 'FLAG_OWN_CAR',\n",
    " 'FLAG_OWN_REALTY',\n",
    " 'CNT_CHILDREN',\n",
    " 'AMT_INCOME_TOTAL',\n",
    " 'AMT_CREDIT',\n",
    " 'AMT_ANNUITY',\n",
    " 'AMT_GOODS_PRICE',\n",
    " #'NAME_TYPE_SUITE',\n",
    " #'NAME_INCOME_TYPE',\n",
    " 'NAME_EDUCATION_TYPE',\n",
    " 'NAME_FAMILY_STATUS',\n",
    " 'NAME_HOUSING_TYPE',\n",
    " #'REGION_POPULATION_RELATIVE',\n",
    " 'DAYS_BIRTH',\n",
    " 'DAYS_EMPLOYED',\n",
    " #'DAYS_REGISTRATION',\n",
    " #'DAYS_ID_PUBLISH',\n",
    " 'OWN_CAR_AGE',\n",
    " #'FLAG_MOBIL',\n",
    " #'FLAG_EMP_PHONE',\n",
    " 'FLAG_WORK_PHONE',\n",
    " 'FLAG_CONT_MOBILE',\n",
    " #'FLAG_PHONE',\n",
    " 'FLAG_EMAIL',\n",
    " 'OCCUPATION_TYPE',\n",
    " 'CNT_FAM_MEMBERS',\n",
    " 'REGION_RATING_CLIENT',\n",
    " #'REGION_RATING_CLIENT_W_CITY',\n",
    " 'WEEKDAY_APPR_PROCESS_START',\n",
    " 'HOUR_APPR_PROCESS_START',\n",
    " #'REG_REGION_NOT_LIVE_REGION',\n",
    " #'REG_REGION_NOT_WORK_REGION',\n",
    " #'LIVE_REGION_NOT_WORK_REGION',\n",
    " #'REG_CITY_NOT_LIVE_CITY',\n",
    " #'REG_CITY_NOT_WORK_CITY',\n",
    " #'LIVE_CITY_NOT_WORK_CITY',\n",
    " 'ORGANIZATION_TYPE',\n",
    "#  'EXT_SOURCE_1',\n",
    "#  'EXT_SOURCE_2',\n",
    "#  'EXT_SOURCE_3',\n",
    "#  'APARTMENTS_AVG',\n",
    "#  'BASEMENTAREA_AVG',\n",
    "#  'YEARS_BEGINEXPLUATATION_AVG',\n",
    "#  'YEARS_BUILD_AVG',\n",
    "#  'COMMONAREA_AVG',\n",
    "#  'ELEVATORS_AVG',\n",
    "#  'ENTRANCES_AVG',\n",
    "#  'FLOORSMAX_AVG',\n",
    "#  'FLOORSMIN_AVG',\n",
    "#  'LANDAREA_AVG',\n",
    "#  'LIVINGAPARTMENTS_AVG',\n",
    "#  'LIVINGAREA_AVG',\n",
    "#  'NONLIVINGAPARTMENTS_AVG',\n",
    "#  'NONLIVINGAREA_AVG',\n",
    "#  'APARTMENTS_MODE',\n",
    "#  'BASEMENTAREA_MODE',\n",
    "#  'YEARS_BEGINEXPLUATATION_MODE',\n",
    "#  'YEARS_BUILD_MODE',\n",
    "#  'COMMONAREA_MODE',\n",
    "#  'ELEVATORS_MODE',\n",
    "#  'ENTRANCES_MODE',\n",
    "#  'FLOORSMAX_MODE',\n",
    "#  'FLOORSMIN_MODE',\n",
    "#  'LANDAREA_MODE',\n",
    "#  'LIVINGAPARTMENTS_MODE',\n",
    "#  'LIVINGAREA_MODE',\n",
    "#  'NONLIVINGAPARTMENTS_MODE',\n",
    "#  'NONLIVINGAREA_MODE',\n",
    "#  'APARTMENTS_MEDI',\n",
    "#  'BASEMENTAREA_MEDI',\n",
    "#  'YEARS_BEGINEXPLUATATION_MEDI',\n",
    "#  'YEARS_BUILD_MEDI',\n",
    "#  'COMMONAREA_MEDI',\n",
    "#  'ELEVATORS_MEDI',\n",
    "#  'ENTRANCES_MEDI',\n",
    "#  'FLOORSMAX_MEDI',\n",
    "#  'FLOORSMIN_MEDI',\n",
    "#  'LANDAREA_MEDI',\n",
    "#  'LIVINGAPARTMENTS_MEDI',\n",
    "#  'LIVINGAREA_MEDI',\n",
    "#  'NONLIVINGAPARTMENTS_MEDI',\n",
    "#  'NONLIVINGAREA_MEDI',\n",
    "#  'FONDKAPREMONT_MODE',\n",
    " 'HOUSETYPE_MODE',\n",
    " #'TOTALAREA_MODE',\n",
    " 'WALLSMATERIAL_MODE',\n",
    " 'EMERGENCYSTATE_MODE',\n",
    "#  'OBS_30_CNT_SOCIAL_CIRCLE',\n",
    "#  'DEF_30_CNT_SOCIAL_CIRCLE',\n",
    "#  'OBS_60_CNT_SOCIAL_CIRCLE',\n",
    "#  'DEF_60_CNT_SOCIAL_CIRCLE',\n",
    " 'DAYS_LAST_PHONE_CHANGE',\n",
    "#  'FLAG_DOCUMENT_2',\n",
    "#  'FLAG_DOCUMENT_3',\n",
    "#  'FLAG_DOCUMENT_4',\n",
    "#  'FLAG_DOCUMENT_5',\n",
    "#  'FLAG_DOCUMENT_6',\n",
    "#  'FLAG_DOCUMENT_7',\n",
    "#  'FLAG_DOCUMENT_8',\n",
    "#  'FLAG_DOCUMENT_9',\n",
    "#  'FLAG_DOCUMENT_10',\n",
    "#  'FLAG_DOCUMENT_11',\n",
    "#  'FLAG_DOCUMENT_12',\n",
    "#  'FLAG_DOCUMENT_13',\n",
    "#  'FLAG_DOCUMENT_14',\n",
    "#  'FLAG_DOCUMENT_15',\n",
    "#  'FLAG_DOCUMENT_16',\n",
    "#  'FLAG_DOCUMENT_17',\n",
    "#  'FLAG_DOCUMENT_18',\n",
    "#  'FLAG_DOCUMENT_19',\n",
    "#  'FLAG_DOCUMENT_20',\n",
    "#  'FLAG_DOCUMENT_21',\n",
    " 'AMT_REQ_CREDIT_BUREAU_HOUR',\n",
    " 'AMT_REQ_CREDIT_BUREAU_DAY',\n",
    " 'AMT_REQ_CREDIT_BUREAU_WEEK',\n",
    " 'AMT_REQ_CREDIT_BUREAU_MON',\n",
    " 'AMT_REQ_CREDIT_BUREAU_QRT',\n",
    " 'AMT_REQ_CREDIT_BUREAU_YEAR']"
   ]
  },
  {
   "cell_type": "code",
   "execution_count": 230,
   "id": "f2f43520",
   "metadata": {},
   "outputs": [],
   "source": [
    "df_risco_credito = df[selected_columns]"
   ]
  },
  {
   "cell_type": "markdown",
   "id": "a5eafb2e",
   "metadata": {},
   "source": [
    "## 01) Qual é a idade, em anos, do titular mais jovem?"
   ]
  },
  {
   "cell_type": "code",
   "execution_count": null,
   "id": "a5b0cc04",
   "metadata": {},
   "outputs": [],
   "source": [
    "df_idade_cliente = df_risco_credito['DAYS_BIRTH']\n",
    "df_idade_cliente"
   ]
  },
  {
   "cell_type": "code",
   "execution_count": null,
   "id": "3d9209b4",
   "metadata": {},
   "outputs": [],
   "source": [
    "df_risco_credito.loc[:,'DAYS_BIRTH'] = df_idade_cliente.apply(lambda x:(x/365)*-1)"
   ]
  },
  {
   "cell_type": "code",
   "execution_count": null,
   "id": "9ba87707",
   "metadata": {},
   "outputs": [],
   "source": [
    "df_idade_crescente = df_risco_credito['DAYS_BIRTH'].sort_values(ascending=True)\n",
    "df_idade_crescente"
   ]
  },
  {
   "cell_type": "code",
   "execution_count": null,
   "id": "27aa49e1",
   "metadata": {},
   "outputs": [],
   "source": [
    "df_idade_mais_jovem = df_idade_crescente.round().head(1).values\n",
    "df_idade_mais_jovem"
   ]
  },
  {
   "cell_type": "code",
   "execution_count": null,
   "id": "1ec3acfe",
   "metadata": {
    "scrolled": true
   },
   "outputs": [],
   "source": [
    "print(f'A idade do titular mais jovem é de {df_idade_mais_jovem[0]:.0f} anos.')"
   ]
  },
  {
   "cell_type": "markdown",
   "id": "883d1484",
   "metadata": {},
   "source": [
    "## 02) Qual a média do valor de anuidade dos residentes em apartamentos maiores de 50 anos?"
   ]
  },
  {
   "cell_type": "code",
   "execution_count": null,
   "id": "640285f0",
   "metadata": {},
   "outputs": [],
   "source": [
    "# idade dos clientes\n",
    "df_idade = df_risco_credito['DAYS_BIRTH']\n",
    "df_idade"
   ]
  },
  {
   "cell_type": "code",
   "execution_count": null,
   "id": "789a0747",
   "metadata": {},
   "outputs": [],
   "source": [
    "# clientas maiores de 50 anos\n",
    "df_cliente_maior_50 = df_idade[df_idade > 50]\n",
    "df_cliente_maior_50"
   ]
  },
  {
   "cell_type": "code",
   "execution_count": null,
   "id": "77dabc52",
   "metadata": {},
   "outputs": [],
   "source": [
    "# tipos de moradias\n",
    "df_tipos_moradias = df_risco_credito['HOUSETYPE_MODE']\n",
    "df_tipos_moradias"
   ]
  },
  {
   "cell_type": "code",
   "execution_count": null,
   "id": "71f66ff3",
   "metadata": {},
   "outputs": [],
   "source": [
    "# montante anuidade geral\n",
    "df_montante_anuidade_geral = df_risco_credito['AMT_ANNUITY']\n",
    "df_montante_anuidade_geral"
   ]
  },
  {
   "cell_type": "code",
   "execution_count": null,
   "id": "d5440d34",
   "metadata": {},
   "outputs": [],
   "source": [
    "# clientes residentes em apartamento\n",
    "df_media_anuidade_residente_maior_50 = df_risco_credito.groupby((df_risco_credito['HOUSETYPE_MODE'] == 'block of flats') & (df_risco_credito['DAYS_BIRTH'] > 50))['AMT_ANNUITY'].mean()\n",
    "df_media_anuidade_residente_maior_50"
   ]
  },
  {
   "cell_type": "code",
   "execution_count": null,
   "id": "2a34e91a",
   "metadata": {},
   "outputs": [],
   "source": [
    "print(f\"A média do valor de anuidade dos residentes em apartamentos maiores de 50 anos é de R$ {df_media_anuidade_residente_maior_50[True]:.2f}\")"
   ]
  },
  {
   "cell_type": "markdown",
   "id": "e8032d49",
   "metadata": {},
   "source": [
    "## 03) Existe uma correlação forte entre ter imóvel próprio e ter carro próprio? Por que?"
   ]
  },
  {
   "cell_type": "code",
   "execution_count": null,
   "id": "fa4fc0b0",
   "metadata": {},
   "outputs": [],
   "source": [
    "# Mudando os valores da coluna para 1 onde for Y e 0 onde for N\n",
    "df_risco_credito['FLAG_OWN_REALTY'] = df_risco_credito['FLAG_OWN_REALTY'].apply(lambda x:1 if x==\"Y\" else 0)\n",
    "df_risco_credito['FLAG_OWN_REALTY'].astype(int)"
   ]
  },
  {
   "cell_type": "code",
   "execution_count": null,
   "id": "3f1d0a25",
   "metadata": {
    "scrolled": true
   },
   "outputs": [],
   "source": [
    "# Mudando os valores da coluna para 1 onde for Y e 0 onde for N\n",
    "df_risco_credito['FLAG_OWN_CAR'] = df_risco_credito['FLAG_OWN_CAR'].apply(lambda x:1 if x==\"Y\" else 0)\n",
    "df_risco_credito['FLAG_OWN_CAR'].astype(int)"
   ]
  },
  {
   "cell_type": "code",
   "execution_count": null,
   "id": "3567d801",
   "metadata": {
    "scrolled": true
   },
   "outputs": [],
   "source": [
    "# Verificando se há correlação entre ter imóvel próprio e carro próprio\n",
    "df_risco_credito[['FLAG_OWN_REALTY','FLAG_OWN_CAR']].corr()"
   ]
  },
  {
   "cell_type": "markdown",
   "id": "7ed12af6",
   "metadata": {},
   "source": [
    "## Resposta:\n",
    "### <font color= 'blue'>Pelo valor obtido, demonstra ser uma <font color='red'>correlação fraca</font>. <font color='blue'>Dessa forma, não há como determinar precisamente a eficácia entre ter imóvel próprio e ter carro próprio.</font>"
   ]
  },
  {
   "cell_type": "markdown",
   "id": "e1e1a82c",
   "metadata": {},
   "source": [
    "## 04) Quais os 3 principais tipos de ocupação de quem mora com parentes?"
   ]
  },
  {
   "cell_type": "code",
   "execution_count": null,
   "id": "fdfda37b",
   "metadata": {},
   "outputs": [],
   "source": [
    "df_risco_credito['NAME_HOUSING_TYPE']"
   ]
  },
  {
   "cell_type": "code",
   "execution_count": null,
   "id": "bb87585b",
   "metadata": {},
   "outputs": [],
   "source": [
    "df_risco_credito['OCCUPATION_TYPE']"
   ]
  },
  {
   "cell_type": "code",
   "execution_count": null,
   "id": "5704a05c",
   "metadata": {},
   "outputs": [],
   "source": [
    "df_risco_credito.groupby(['NAME_HOUSING_TYPE','OCCUPATION_TYPE']).size()"
   ]
  },
  {
   "cell_type": "code",
   "execution_count": null,
   "id": "2f4b4ffb",
   "metadata": {},
   "outputs": [],
   "source": [
    "df_risco_credito[df_risco_credito.NAME_HOUSING_TYPE =='With parents'].groupby('OCCUPATION_TYPE').size().sort_values(ascending=False).head(3)"
   ]
  },
  {
   "cell_type": "code",
   "execution_count": null,
   "id": "ad3bd3f5",
   "metadata": {},
   "outputs": [],
   "source": [
    "df_ocupacao_vivem_pais = df_risco_credito[df_risco_credito.NAME_HOUSING_TYPE =='With parents'].groupby('OCCUPATION_TYPE').size().sort_values(ascending=False).head(3)"
   ]
  },
  {
   "cell_type": "code",
   "execution_count": null,
   "id": "092d5f66",
   "metadata": {},
   "outputs": [],
   "source": [
    "print(f'Os 3 principais tipos de ocupação de quem mora com os pais são : {df_ocupacao_vivem_pais.keys()[0]}, {df_ocupacao_vivem_pais.keys()[1]} e {df_ocupacao_vivem_pais.keys()[2]}')"
   ]
  },
  {
   "cell_type": "markdown",
   "id": "f91fa470",
   "metadata": {},
   "source": [
    "## 05) Qual é a diferença entre a média de valor de crédito e a média de valor de anuidade quando filtramos pelos trabalhadores do tipo de organização Military?"
   ]
  },
  {
   "cell_type": "code",
   "execution_count": null,
   "id": "51cbac2b",
   "metadata": {},
   "outputs": [],
   "source": [
    "df_risco_credito['ORGANIZATION_TYPE'].unique()"
   ]
  },
  {
   "cell_type": "code",
   "execution_count": null,
   "id": "2280e242",
   "metadata": {},
   "outputs": [],
   "source": [
    "df_risco_credito['AMT_CREDIT']"
   ]
  },
  {
   "cell_type": "code",
   "execution_count": null,
   "id": "bccfe80a",
   "metadata": {},
   "outputs": [],
   "source": [
    "df_risco_credito['AMT_ANNUITY']"
   ]
  },
  {
   "cell_type": "code",
   "execution_count": null,
   "id": "2574a348",
   "metadata": {},
   "outputs": [],
   "source": [
    "df_military_credit = df[df['ORGANIZATION_TYPE'] == 'Military']"
   ]
  },
  {
   "cell_type": "code",
   "execution_count": null,
   "id": "3793088a",
   "metadata": {},
   "outputs": [],
   "source": [
    "med_militar_credit = df_military_credit['AMT_CREDIT'].mean()"
   ]
  },
  {
   "cell_type": "code",
   "execution_count": null,
   "id": "f6e6a436",
   "metadata": {},
   "outputs": [],
   "source": [
    "df_military_annuity = df[df['ORGANIZATION_TYPE'] == 'Military']"
   ]
  },
  {
   "cell_type": "code",
   "execution_count": null,
   "id": "f5236304",
   "metadata": {},
   "outputs": [],
   "source": [
    "med_militar_annuity = df_military_annuity['AMT_ANNUITY'].mean()"
   ]
  },
  {
   "cell_type": "code",
   "execution_count": null,
   "id": "de8ece5e",
   "metadata": {},
   "outputs": [],
   "source": [
    "df_diferenca_medias = med_militar_credit - med_militar_annuity\n",
    "df_diferenca_medias"
   ]
  },
  {
   "cell_type": "code",
   "execution_count": null,
   "id": "701add8a",
   "metadata": {},
   "outputs": [],
   "source": [
    "print(f'A diferença da média do crédito e anuidade dos trabalhadores da organização Military é de R$ {df_diferenca_medias:.2f}')"
   ]
  },
  {
   "cell_type": "markdown",
   "id": "8469c1b1",
   "metadata": {},
   "source": [
    "## 06) Considerando os tipos de ocupação, podemos dizer que os \"Managers\" possuem um valor de anuidade mais alto? Se não, qual é?"
   ]
  },
  {
   "cell_type": "code",
   "execution_count": null,
   "id": "e9ac1d24",
   "metadata": {},
   "outputs": [],
   "source": [
    "df_anuidade_max = df_risco_credito.groupby('OCCUPATION_TYPE')['AMT_ANNUITY'].mean()"
   ]
  },
  {
   "cell_type": "code",
   "execution_count": null,
   "id": "53594745",
   "metadata": {},
   "outputs": [],
   "source": [
    "df_anuidade_max.sort_values(ascending=False)"
   ]
  },
  {
   "cell_type": "markdown",
   "id": "9b4056af",
   "metadata": {},
   "source": [
    "### RESPOSTA:\n",
    "### <font color='blue'>Considerando os tipos de ocupação, podemos dizer que</font><font color='green'> SIM</font><font color='blue'>, os <font color='black'>managers</font> possuem um valor de anuidade mais alto, tendo em vista o resultado da média aplicada aos demais profissionais. </font>"
   ]
  },
  {
   "cell_type": "markdown",
   "id": "2fd3f56b",
   "metadata": {},
   "source": [
    "## 07) Qual é o horário e dia da semana que mais trabalhadores dos tipos de organização Bank & Government optam por requisitar o financiamento?"
   ]
  },
  {
   "cell_type": "code",
   "execution_count": null,
   "id": "74d7c0d2",
   "metadata": {},
   "outputs": [],
   "source": [
    "df_risco_credito['ORGANIZATION_TYPE'].unique()"
   ]
  },
  {
   "cell_type": "markdown",
   "id": "588ce2fb",
   "metadata": {},
   "source": [
    "### BANK"
   ]
  },
  {
   "cell_type": "code",
   "execution_count": null,
   "id": "879d02e2",
   "metadata": {},
   "outputs": [],
   "source": [
    "df_bank = df_risco_credito[df_risco_credito['ORGANIZATION_TYPE'] == 'Bank']"
   ]
  },
  {
   "cell_type": "code",
   "execution_count": null,
   "id": "362af0f7",
   "metadata": {},
   "outputs": [],
   "source": [
    "df_bank.groupby(df_risco_credito['OCCUPATION_TYPE']).size()"
   ]
  },
  {
   "cell_type": "markdown",
   "id": "b94eee08",
   "metadata": {},
   "source": [
    "#### horário:"
   ]
  },
  {
   "cell_type": "code",
   "execution_count": null,
   "id": "99edba0a",
   "metadata": {},
   "outputs": [],
   "source": [
    "bank_hora = df_bank['HOUR_APPR_PROCESS_START'].mode()"
   ]
  },
  {
   "cell_type": "code",
   "execution_count": null,
   "id": "bdbdea1e",
   "metadata": {},
   "outputs": [],
   "source": [
    "print(f'O horário que os trabalhadores do banco mais requisitam empréstimo é {bank_hora.values[0]}h e {bank_hora.values[1]}h')"
   ]
  },
  {
   "cell_type": "markdown",
   "id": "36ec0222",
   "metadata": {},
   "source": [
    "#### dia da semana:"
   ]
  },
  {
   "cell_type": "code",
   "execution_count": null,
   "id": "a3f09fc7",
   "metadata": {},
   "outputs": [],
   "source": [
    "bank_dia_semana = df_bank['WEEKDAY_APPR_PROCESS_START'].mode()"
   ]
  },
  {
   "cell_type": "code",
   "execution_count": null,
   "id": "bb2de074",
   "metadata": {},
   "outputs": [],
   "source": [
    "print(f'O dia que os trabalhadores do banco mais requisitam empréstimo é {bank_dia_semana.values[0]}')"
   ]
  },
  {
   "cell_type": "markdown",
   "id": "cc439177",
   "metadata": {},
   "source": [
    "### resultado compilado:"
   ]
  },
  {
   "cell_type": "code",
   "execution_count": null,
   "id": "261163e8",
   "metadata": {},
   "outputs": [],
   "source": [
    "bank_resultado = [bank_hora,bank_dia_semana]"
   ]
  },
  {
   "cell_type": "code",
   "execution_count": null,
   "id": "e01d4d1a",
   "metadata": {},
   "outputs": [],
   "source": [
    "resultado_bank = pd.concat(bank_resultado).set_axis(labels=['hora 01:','hora 02:','dia:'])"
   ]
  },
  {
   "cell_type": "code",
   "execution_count": null,
   "id": "dcf48056",
   "metadata": {},
   "outputs": [],
   "source": [
    "print(f'O resultado compilado é \\n{resultado_bank}')"
   ]
  },
  {
   "cell_type": "markdown",
   "id": "be5566dc",
   "metadata": {},
   "source": [
    "### GOVERNMENT"
   ]
  },
  {
   "cell_type": "code",
   "execution_count": null,
   "id": "678ff98e",
   "metadata": {},
   "outputs": [],
   "source": [
    "df_gov = df_risco_credito[df_risco_credito['ORGANIZATION_TYPE'] == 'Government']"
   ]
  },
  {
   "cell_type": "code",
   "execution_count": null,
   "id": "8c5c23a1",
   "metadata": {},
   "outputs": [],
   "source": [
    "df_gov.groupby(df_risco_credito['OCCUPATION_TYPE']).size()"
   ]
  },
  {
   "cell_type": "markdown",
   "id": "af2dd8a1",
   "metadata": {},
   "source": [
    "#### horário:"
   ]
  },
  {
   "cell_type": "code",
   "execution_count": null,
   "id": "b158c236",
   "metadata": {},
   "outputs": [],
   "source": [
    "gov_hora = df_gov['HOUR_APPR_PROCESS_START'].mode()"
   ]
  },
  {
   "cell_type": "code",
   "execution_count": null,
   "id": "bbe99ac1",
   "metadata": {},
   "outputs": [],
   "source": [
    "print(f'O horário que os trabalhadores do governo mais requisitam empréstimo é {gov_hora.values[0]}h')"
   ]
  },
  {
   "cell_type": "markdown",
   "id": "ffed8bc6",
   "metadata": {},
   "source": [
    "#### dia da semana:"
   ]
  },
  {
   "cell_type": "code",
   "execution_count": null,
   "id": "df06bfeb",
   "metadata": {},
   "outputs": [],
   "source": [
    "gov_dia_semana = df_gov['WEEKDAY_APPR_PROCESS_START'].mode()"
   ]
  },
  {
   "cell_type": "code",
   "execution_count": null,
   "id": "b777079b",
   "metadata": {},
   "outputs": [],
   "source": [
    "print(f'O dia que os trabalhadores do governo mais requisitam empréstimo é {gov_dia_semana.values[0]}')"
   ]
  },
  {
   "cell_type": "markdown",
   "id": "cc363b06",
   "metadata": {},
   "source": [
    "### resultado compilado:"
   ]
  },
  {
   "cell_type": "code",
   "execution_count": null,
   "id": "668fcdd9",
   "metadata": {},
   "outputs": [],
   "source": [
    "gov_resultado = [gov_hora,gov_dia_semana]"
   ]
  },
  {
   "cell_type": "code",
   "execution_count": null,
   "id": "5992b288",
   "metadata": {},
   "outputs": [],
   "source": [
    "resultado_gov = pd.concat(gov_resultado).set_axis(labels=['hora 01:','dia:'])"
   ]
  },
  {
   "cell_type": "code",
   "execution_count": null,
   "id": "4a6967c2",
   "metadata": {},
   "outputs": [],
   "source": [
    "print(f'O resultado compilado é \\n{resultado_gov}')"
   ]
  },
  {
   "cell_type": "markdown",
   "id": "b02b52c9",
   "metadata": {},
   "source": [
    "### Realizando a junção dos grupos de trabalhadores para ter uma ideia do dia e hora que ocorre mais requisições de financiamento."
   ]
  },
  {
   "cell_type": "code",
   "execution_count": null,
   "id": "0750a07a",
   "metadata": {},
   "outputs": [],
   "source": [
    "df_grupo_geral_organizacao = pd.concat([df_bank,df_gov])\n",
    "df_grupo_geral_organizacao"
   ]
  },
  {
   "cell_type": "code",
   "execution_count": null,
   "id": "4ec5bbf1",
   "metadata": {},
   "outputs": [],
   "source": [
    "df_grupo_hora = df_grupo_geral_organizacao['HOUR_APPR_PROCESS_START'].mode()\n",
    "df_grupo_hora"
   ]
  },
  {
   "cell_type": "code",
   "execution_count": null,
   "id": "272b2d83",
   "metadata": {},
   "outputs": [],
   "source": [
    "df_grupo_dia = df_grupo_geral_organizacao['WEEKDAY_APPR_PROCESS_START'].mode()\n",
    "df_grupo_dia"
   ]
  },
  {
   "cell_type": "code",
   "execution_count": null,
   "id": "25377e9f",
   "metadata": {},
   "outputs": [],
   "source": [
    "print(f'O horário que os trabalhadores mais requisitam empréstimo é {df_grupo_hora.values[0]}h e {df_grupo_hora.values[1]}h')"
   ]
  },
  {
   "cell_type": "code",
   "execution_count": null,
   "id": "a7a20530",
   "metadata": {},
   "outputs": [],
   "source": [
    "print(f'O dia que os trabalhadores mais requisitam empréstimo é {df_grupo_dia.values[0]}')"
   ]
  },
  {
   "cell_type": "markdown",
   "id": "bdc89c53",
   "metadata": {},
   "source": [
    "## 08) Qual a média de requisições de empréstimo entre trabalhadores com tipo de ocupação \"Sales staff\", que não moram com parentes, declararam não estarem em situação de emergência e possuem telefone de trabalho?"
   ]
  },
  {
   "cell_type": "code",
   "execution_count": null,
   "id": "60d907d3",
   "metadata": {},
   "outputs": [],
   "source": [
    "filtro = df_risco_credito[(df_risco_credito.OCCUPATION_TYPE == 'Sales staff') & (df_risco_credito.NAME_HOUSING_TYPE != 'With parents') & (df_risco_credito.EMERGENCYSTATE_MODE == 'No') & (df_risco_credito.FLAG_WORK_PHONE == 1)]"
   ]
  },
  {
   "cell_type": "code",
   "execution_count": null,
   "id": "c2718b2e",
   "metadata": {},
   "outputs": [],
   "source": [
    "df_media_req_trabalhador = filtro['AMT_CREDIT'].mean()\n",
    "df_media_req_trabalhador"
   ]
  },
  {
   "cell_type": "code",
   "execution_count": null,
   "id": "6a57c09e",
   "metadata": {},
   "outputs": [],
   "source": [
    "print(f'A média de requisições de empréstimo foi de R${df_media_req_trabalhador:.2f}')"
   ]
  },
  {
   "cell_type": "markdown",
   "id": "cd31510f",
   "metadata": {},
   "source": [
    "## 09) Como você explica a correlação entre o número de filhos e idade (em anos)?"
   ]
  },
  {
   "cell_type": "code",
   "execution_count": null,
   "id": "5b57bd4f",
   "metadata": {},
   "outputs": [],
   "source": [
    "correlacao_filhos_idade = df_risco_credito[['CNT_CHILDREN','DAYS_BIRTH']].corr()"
   ]
  },
  {
   "cell_type": "code",
   "execution_count": null,
   "id": "91cdfac5",
   "metadata": {},
   "outputs": [],
   "source": [
    "correlacao_filhos_idade"
   ]
  },
  {
   "cell_type": "code",
   "execution_count": null,
   "id": "2a83b82f",
   "metadata": {},
   "outputs": [],
   "source": [
    "print(\"Ainda que exista uma correlação negativa ou inversa, o valor obtido demonstra ser uma correlação do tipo fraca. Dessa forma, não há como determinar precisamente a eficácia entre quantidade de filhos e idade. Enfim, uma correlação não implica causalidade\")"
   ]
  },
  {
   "cell_type": "code",
   "execution_count": null,
   "id": "3fc19cab",
   "metadata": {},
   "outputs": [],
   "source": []
  },
  {
   "cell_type": "markdown",
   "id": "5c6091d4",
   "metadata": {},
   "source": []
  }
 ],
 "metadata": {
  "kernelspec": {
   "display_name": "Python 3 (ipykernel)",
   "language": "python",
   "name": "python3"
  },
  "language_info": {
   "codemirror_mode": {
    "name": "ipython",
    "version": 3
   },
   "file_extension": ".py",
   "mimetype": "text/x-python",
   "name": "python",
   "nbconvert_exporter": "python",
   "pygments_lexer": "ipython3",
   "version": "3.9.12"
  },
  "vscode": {
   "interpreter": {
    "hash": "d11a989913a681f18617051c1ea14c60fcb00902fbf9deca5c6fd0b8247f7daa"
   }
  }
 },
 "nbformat": 4,
 "nbformat_minor": 5
}
