{
 "cells": [
  {
   "cell_type": "code",
   "execution_count": 2,
   "id": "b0d3a768",
   "metadata": {},
   "outputs": [],
   "source": [
    "import pandas as pd\n",
    "import numpy as np\n",
    "import warnings\n",
    "warnings.filterwarnings(\"ignore\")"
   ]
  },
  {
   "cell_type": "code",
   "execution_count": 228,
   "id": "71573036",
   "metadata": {},
   "outputs": [],
   "source": [
    "df = pd.read_csv('home_credit_default_risk_application_100000.csv')"
   ]
  },
  {
   "cell_type": "code",
   "execution_count": 229,
   "id": "da5e4106",
   "metadata": {},
   "outputs": [],
   "source": [
    "#listando as colunas que serão utilizadas para correlação\n",
    "\n",
    "selected_columns = ['SK_ID_CURR',\n",
    " 'TARGET',\n",
    " 'NAME_CONTRACT_TYPE',\n",
    " 'CODE_GENDER',\n",
    " 'FLAG_OWN_CAR',\n",
    " 'FLAG_OWN_REALTY',\n",
    " 'CNT_CHILDREN',\n",
    " 'AMT_INCOME_TOTAL',\n",
    " 'AMT_CREDIT',\n",
    " 'AMT_ANNUITY',\n",
    " 'AMT_GOODS_PRICE',\n",
    " #'NAME_TYPE_SUITE',\n",
    " #'NAME_INCOME_TYPE',\n",
    " 'NAME_EDUCATION_TYPE',\n",
    " 'NAME_FAMILY_STATUS',\n",
    " 'NAME_HOUSING_TYPE',\n",
    " #'REGION_POPULATION_RELATIVE',\n",
    " 'DAYS_BIRTH',\n",
    " 'DAYS_EMPLOYED',\n",
    " #'DAYS_REGISTRATION',\n",
    " #'DAYS_ID_PUBLISH',\n",
    " 'OWN_CAR_AGE',\n",
    " #'FLAG_MOBIL',\n",
    " #'FLAG_EMP_PHONE',\n",
    " 'FLAG_WORK_PHONE',\n",
    " 'FLAG_CONT_MOBILE',\n",
    " #'FLAG_PHONE',\n",
    " 'FLAG_EMAIL',\n",
    " 'OCCUPATION_TYPE',\n",
    " 'CNT_FAM_MEMBERS',\n",
    " 'REGION_RATING_CLIENT',\n",
    " #'REGION_RATING_CLIENT_W_CITY',\n",
    " 'WEEKDAY_APPR_PROCESS_START',\n",
    " 'HOUR_APPR_PROCESS_START',\n",
    " #'REG_REGION_NOT_LIVE_REGION',\n",
    " #'REG_REGION_NOT_WORK_REGION',\n",
    " #'LIVE_REGION_NOT_WORK_REGION',\n",
    " #'REG_CITY_NOT_LIVE_CITY',\n",
    " #'REG_CITY_NOT_WORK_CITY',\n",
    " #'LIVE_CITY_NOT_WORK_CITY',\n",
    " 'ORGANIZATION_TYPE',\n",
    "#  'EXT_SOURCE_1',\n",
    "#  'EXT_SOURCE_2',\n",
    "#  'EXT_SOURCE_3',\n",
    "#  'APARTMENTS_AVG',\n",
    "#  'BASEMENTAREA_AVG',\n",
    "#  'YEARS_BEGINEXPLUATATION_AVG',\n",
    "#  'YEARS_BUILD_AVG',\n",
    "#  'COMMONAREA_AVG',\n",
    "#  'ELEVATORS_AVG',\n",
    "#  'ENTRANCES_AVG',\n",
    "#  'FLOORSMAX_AVG',\n",
    "#  'FLOORSMIN_AVG',\n",
    "#  'LANDAREA_AVG',\n",
    "#  'LIVINGAPARTMENTS_AVG',\n",
    "#  'LIVINGAREA_AVG',\n",
    "#  'NONLIVINGAPARTMENTS_AVG',\n",
    "#  'NONLIVINGAREA_AVG',\n",
    "#  'APARTMENTS_MODE',\n",
    "#  'BASEMENTAREA_MODE',\n",
    "#  'YEARS_BEGINEXPLUATATION_MODE',\n",
    "#  'YEARS_BUILD_MODE',\n",
    "#  'COMMONAREA_MODE',\n",
    "#  'ELEVATORS_MODE',\n",
    "#  'ENTRANCES_MODE',\n",
    "#  'FLOORSMAX_MODE',\n",
    "#  'FLOORSMIN_MODE',\n",
    "#  'LANDAREA_MODE',\n",
    "#  'LIVINGAPARTMENTS_MODE',\n",
    "#  'LIVINGAREA_MODE',\n",
    "#  'NONLIVINGAPARTMENTS_MODE',\n",
    "#  'NONLIVINGAREA_MODE',\n",
    "#  'APARTMENTS_MEDI',\n",
    "#  'BASEMENTAREA_MEDI',\n",
    "#  'YEARS_BEGINEXPLUATATION_MEDI',\n",
    "#  'YEARS_BUILD_MEDI',\n",
    "#  'COMMONAREA_MEDI',\n",
    "#  'ELEVATORS_MEDI',\n",
    "#  'ENTRANCES_MEDI',\n",
    "#  'FLOORSMAX_MEDI',\n",
    "#  'FLOORSMIN_MEDI',\n",
    "#  'LANDAREA_MEDI',\n",
    "#  'LIVINGAPARTMENTS_MEDI',\n",
    "#  'LIVINGAREA_MEDI',\n",
    "#  'NONLIVINGAPARTMENTS_MEDI',\n",
    "#  'NONLIVINGAREA_MEDI',\n",
    "#  'FONDKAPREMONT_MODE',\n",
    " 'HOUSETYPE_MODE',\n",
    " #'TOTALAREA_MODE',\n",
    " 'WALLSMATERIAL_MODE',\n",
    " 'EMERGENCYSTATE_MODE',\n",
    "#  'OBS_30_CNT_SOCIAL_CIRCLE',\n",
    "#  'DEF_30_CNT_SOCIAL_CIRCLE',\n",
    "#  'OBS_60_CNT_SOCIAL_CIRCLE',\n",
    "#  'DEF_60_CNT_SOCIAL_CIRCLE',\n",
    " 'DAYS_LAST_PHONE_CHANGE',\n",
    "#  'FLAG_DOCUMENT_2',\n",
    "#  'FLAG_DOCUMENT_3',\n",
    "#  'FLAG_DOCUMENT_4',\n",
    "#  'FLAG_DOCUMENT_5',\n",
    "#  'FLAG_DOCUMENT_6',\n",
    "#  'FLAG_DOCUMENT_7',\n",
    "#  'FLAG_DOCUMENT_8',\n",
    "#  'FLAG_DOCUMENT_9',\n",
    "#  'FLAG_DOCUMENT_10',\n",
    "#  'FLAG_DOCUMENT_11',\n",
    "#  'FLAG_DOCUMENT_12',\n",
    "#  'FLAG_DOCUMENT_13',\n",
    "#  'FLAG_DOCUMENT_14',\n",
    "#  'FLAG_DOCUMENT_15',\n",
    "#  'FLAG_DOCUMENT_16',\n",
    "#  'FLAG_DOCUMENT_17',\n",
    "#  'FLAG_DOCUMENT_18',\n",
    "#  'FLAG_DOCUMENT_19',\n",
    "#  'FLAG_DOCUMENT_20',\n",
    "#  'FLAG_DOCUMENT_21',\n",
    " 'AMT_REQ_CREDIT_BUREAU_HOUR',\n",
    " 'AMT_REQ_CREDIT_BUREAU_DAY',\n",
    " 'AMT_REQ_CREDIT_BUREAU_WEEK',\n",
    " 'AMT_REQ_CREDIT_BUREAU_MON',\n",
    " 'AMT_REQ_CREDIT_BUREAU_QRT',\n",
    " 'AMT_REQ_CREDIT_BUREAU_YEAR']"
   ]
  },
  {
   "cell_type": "code",
   "execution_count": 230,
   "id": "f2f43520",
   "metadata": {},
   "outputs": [],
   "source": [
    "df_risco_credito = df[selected_columns]"
   ]
  },
  {
   "cell_type": "markdown",
   "id": "a5eafb2e",
   "metadata": {},
   "source": [
    "## 01) Qual é a idade, em anos, do titular mais jovem?"
   ]
  },
  {
   "cell_type": "code",
   "execution_count": null,
   "id": "a5b0cc04",
   "metadata": {},
   "outputs": [],
   "source": [
    "df_idade_cliente = df_risco_credito['DAYS_BIRTH']\n",
    "df_idade_cliente"
   ]
  },
  {
   "cell_type": "code",
   "execution_count": null,
   "id": "3d9209b4",
   "metadata": {},
   "outputs": [],
   "source": [
    "df_risco_credito.loc[:,'DAYS_BIRTH'] = df_idade_cliente.apply(lambda x:(x/365)*-1)"
   ]
  },
  {
   "cell_type": "code",
   "execution_count": null,
   "id": "9ba87707",
   "metadata": {},
   "outputs": [],
   "source": [
    "df_idade_crescente = df_risco_credito['DAYS_BIRTH'].sort_values(ascending=True)\n",
    "df_idade_crescente"
   ]
  },
  {
   "cell_type": "code",
   "execution_count": null,
   "id": "27aa49e1",
   "metadata": {},
   "outputs": [],
   "source": [
    "df_idade_mais_jovem = df_idade_crescente.round().head(1).values\n",
    "df_idade_mais_jovem"
   ]
  },
  {
   "cell_type": "code",
   "execution_count": null,
   "id": "1ec3acfe",
   "metadata": {
    "scrolled": true
   },
   "outputs": [],
   "source": [
    "print(f'A idade do titular mais jovem é de {df_idade_mais_jovem[0]:.0f} anos.')"
   ]
  },
  {
   "cell_type": "markdown",
   "id": "883d1484",
   "metadata": {},
   "source": [
    "## 02) Qual a média do valor de anuidade dos residentes em apartamentos maiores de 50 anos?"
   ]
  },
  {
   "cell_type": "code",
   "execution_count": null,
   "id": "640285f0",
   "metadata": {},
   "outputs": [],
   "source": [
    "# idade dos clientes\n",
    "df_idade = df_risco_credito['DAYS_BIRTH']\n",
    "df_idade"
   ]
  },
  {
   "cell_type": "code",
   "execution_count": null,
   "id": "789a0747",
   "metadata": {},
   "outputs": [],
   "source": [
    "# clientas maiores de 50 anos\n",
    "df_cliente_maior_50 = df_idade[df_idade > 50]\n",
    "df_cliente_maior_50"
   ]
  },
  {
   "cell_type": "code",
   "execution_count": null,
   "id": "77dabc52",
   "metadata": {},
   "outputs": [],
   "source": [
    "# tipos de moradias\n",
    "df_tipos_moradias = df_risco_credito['HOUSETYPE_MODE']\n",
    "df_tipos_moradias"
   ]
  },
  {
   "cell_type": "code",
   "execution_count": null,
   "id": "71f66ff3",
   "metadata": {},
   "outputs": [],
   "source": [
    "# montante anuidade geral\n",
    "df_montante_anuidade_geral = df_risco_credito['AMT_ANNUITY']\n",
    "df_montante_anuidade_geral"
   ]
  },
  {
   "cell_type": "code",
   "execution_count": null,
   "id": "d5440d34",
   "metadata": {},
   "outputs": [],
   "source": [
    "# clientes residentes em apartamento\n",
    "df_media_anuidade_residente_maior_50 = df_risco_credito.groupby((df_risco_credito['HOUSETYPE_MODE'] == 'block of flats') & (df_risco_credito['DAYS_BIRTH'] > 50))['AMT_ANNUITY'].mean()\n",
    "df_media_anuidade_residente_maior_50"
   ]
  },
  {
   "cell_type": "code",
   "execution_count": null,
   "id": "2a34e91a",
   "metadata": {},
   "outputs": [],
   "source": [
    "print(f\"A média do valor de anuidade dos residentes em apartamentos maiores de 50 anos é de R$ {df_media_anuidade_residente_maior_50[True]:.2f}\")"
   ]
  },
  {
   "cell_type": "markdown",
   "id": "e8032d49",
   "metadata": {},
   "source": [
    "## 03) Existe uma correlação forte entre ter imóvel próprio e ter carro próprio? Por que?"
   ]
  },
  {
   "cell_type": "code",
   "execution_count": null,
   "id": "fa4fc0b0",
   "metadata": {},
   "outputs": [],
   "source": [
    "# Mudando os valores da coluna para 1 onde for Y e 0 onde for N\n",
    "df_risco_credito['FLAG_OWN_REALTY'] = df_risco_credito['FLAG_OWN_REALTY'].apply(lambda x:1 if x==\"Y\" else 0)\n",
    "df_risco_credito['FLAG_OWN_REALTY'].astype(int)"
   ]
  },
  {
   "cell_type": "code",
   "execution_count": null,
   "id": "3f1d0a25",
   "metadata": {
    "scrolled": true
   },
   "outputs": [],
   "source": [
    "# Mudando os valores da coluna para 1 onde for Y e 0 onde for N\n",
    "df_risco_credito['FLAG_OWN_CAR'] = df_risco_credito['FLAG_OWN_CAR'].apply(lambda x:1 if x==\"Y\" else 0)\n",
    "df_risco_credito['FLAG_OWN_CAR'].astype(int)"
   ]
  },
  {
   "cell_type": "code",
   "execution_count": null,
   "id": "3567d801",
   "metadata": {
    "scrolled": true
   },
   "outputs": [],
   "source": [
    "# Verificando se há correlação entre ter imóvel próprio e carro próprio\n",
    "df_risco_credito[['FLAG_OWN_REALTY','FLAG_OWN_CAR']].corr()"
   ]
  },
  {
   "cell_type": "markdown",
   "id": "7ed12af6",
   "metadata": {},
   "source": [
    "## Resposta:\n",
    "### <font color= 'blue'>Pelo valor obtido, demonstra ser uma <font color='red'>correlação fraca</font>. <font color='blue'>Dessa forma, não há como determinar precisamente a eficácia entre ter imóvel próprio e ter carro próprio.</font>"
   ]
  },
  {
   "cell_type": "markdown",
   "id": "e1e1a82c",
   "metadata": {},
   "source": [
    "## 04) Quais os 3 principais tipos de ocupação de quem mora com parentes?"
   ]
  },
  {
   "cell_type": "code",
   "execution_count": null,
   "id": "fdfda37b",
   "metadata": {},
   "outputs": [],
   "source": [
    "df_risco_credito['NAME_HOUSING_TYPE']"
   ]
  },
  {
   "cell_type": "code",
   "execution_count": null,
   "id": "bb87585b",
   "metadata": {},
   "outputs": [],
   "source": [
    "df_risco_credito['OCCUPATION_TYPE']"
   ]
  },
  {
   "cell_type": "code",
   "execution_count": null,
   "id": "5704a05c",
   "metadata": {},
   "outputs": [],
   "source": [
    "df_risco_credito.groupby(['NAME_HOUSING_TYPE','OCCUPATION_TYPE']).size()"
   ]
  },
  {
   "cell_type": "code",
   "execution_count": null,
   "id": "2f4b4ffb",
   "metadata": {},
   "outputs": [],
   "source": [
    "df_risco_credito[df_risco_credito.NAME_HOUSING_TYPE =='With parents'].groupby('OCCUPATION_TYPE').size().sort_values(ascending=False).head(3)"
   ]
  },
  {
   "cell_type": "code",
   "execution_count": null,
   "id": "ad3bd3f5",
   "metadata": {},
   "outputs": [],
   "source": [
    "df_ocupacao_vivem_pais = df_risco_credito[df_risco_credito.NAME_HOUSING_TYPE =='With parents'].groupby('OCCUPATION_TYPE').size().sort_values(ascending=False).head(3)"
   ]
  },
  {
   "cell_type": "code",
   "execution_count": null,
   "id": "092d5f66",
   "metadata": {},
   "outputs": [],
   "source": [
    "print(f'Os 3 principais tipos de ocupação de quem mora com os pais são : {df_ocupacao_vivem_pais.keys()[0]}, {df_ocupacao_vivem_pais.keys()[1]} e {df_ocupacao_vivem_pais.keys()[2]}')"
   ]
  },
  {
   "cell_type": "markdown",
   "id": "f91fa470",
   "metadata": {},
   "source": [
    "## 05) Qual é a diferença entre a média de valor de crédito e a média de valor de anuidade quando filtramos pelos trabalhadores do tipo de organização Military?"
   ]
  },
  {
   "cell_type": "code",
   "execution_count": null,
   "id": "51cbac2b",
   "metadata": {},
   "outputs": [],
   "source": [
    "df_risco_credito['ORGANIZATION_TYPE'].unique()"
   ]
  },
  {
   "cell_type": "code",
   "execution_count": null,
   "id": "2280e242",
   "metadata": {},
   "outputs": [],
   "source": [
    "df_risco_credito['AMT_CREDIT']"
   ]
  },
  {
   "cell_type": "code",
   "execution_count": null,
   "id": "bccfe80a",
   "metadata": {},
   "outputs": [],
   "source": [
    "df_risco_credito['AMT_ANNUITY']"
   ]
  },
  {
   "cell_type": "code",
   "execution_count": null,
   "id": "2574a348",
   "metadata": {},
   "outputs": [],
   "source": [
    "df_military_credit = df[df['ORGANIZATION_TYPE'] == 'Military']"
   ]
  },
  {
   "cell_type": "code",
   "execution_count": null,
   "id": "3793088a",
   "metadata": {},
   "outputs": [],
   "source": [
    "med_militar_credit = df_military_credit['AMT_CREDIT'].mean()"
   ]
  },
  {
   "cell_type": "code",
   "execution_count": null,
   "id": "f6e6a436",
   "metadata": {},
   "outputs": [],
   "source": [
    "df_military_annuity = df[df['ORGANIZATION_TYPE'] == 'Military']"
   ]
  },
  {
   "cell_type": "code",
   "execution_count": null,
   "id": "f5236304",
   "metadata": {},
   "outputs": [],
   "source": [
    "med_militar_annuity = df_military_annuity['AMT_ANNUITY'].mean()"
   ]
  },
  {
   "cell_type": "code",
   "execution_count": null,
   "id": "de8ece5e",
   "metadata": {},
   "outputs": [],
   "source": [
    "df_diferenca_medias = med_militar_credit - med_militar_annuity\n",
    "df_diferenca_medias"
   ]
  },
  {
   "cell_type": "code",
   "execution_count": null,
   "id": "701add8a",
   "metadata": {},
   "outputs": [],
   "source": [
    "print(f'A diferença da média do crédito e anuidade dos trabalhadores da organização Military é de R$ {df_diferenca_medias:.2f}')"
   ]
  },
  {
   "cell_type": "markdown",
   "id": "8469c1b1",
   "metadata": {},
   "source": [
    "## 06) Considerando os tipos de ocupação, podemos dizer que os \"Managers\" possuem um valor de anuidade mais alto? Se não, qual é?"
   ]
  },
  {
   "cell_type": "code",
   "execution_count": null,
   "id": "e9ac1d24",
   "metadata": {},
   "outputs": [],
   "source": [
    "df_anuidade_max = df_risco_credito.groupby('OCCUPATION_TYPE')['AMT_ANNUITY'].mean()"
   ]
  },
  {
   "cell_type": "code",
   "execution_count": null,
   "id": "53594745",
   "metadata": {},
   "outputs": [],
   "source": [
    "df_anuidade_max.sort_values(ascending=False)"
   ]
  },
  {
   "cell_type": "markdown",
   "id": "9b4056af",
   "metadata": {},
   "source": [
    "### RESPOSTA:\n",
    "### <font color='blue'>Considerando os tipos de ocupação, podemos dizer que</font><font color='green'> SIM</font><font color='blue'>, os <font color='black'>managers</font> possuem um valor de anuidade mais alto, tendo em vista o resultado da média aplicada aos demais profissionais. </font>"
   ]
  },
  {
   "cell_type": "markdown",
   "id": "2fd3f56b",
   "metadata": {},
   "source": [
    "## 07) Qual é o horário e dia da semana que mais trabalhadores dos tipos de organização Bank & Government optam por requisitar o financiamento?"
   ]
  },
  {
   "cell_type": "code",
   "execution_count": null,
   "id": "74d7c0d2",
   "metadata": {},
   "outputs": [],
   "source": [
    "df_risco_credito['ORGANIZATION_TYPE'].unique()"
   ]
  },
  {
   "cell_type": "markdown",
   "id": "588ce2fb",
   "metadata": {},
   "source": [
    "### BANK"
   ]
  },
  {
   "cell_type": "code",
   "execution_count": null,
   "id": "879d02e2",
   "metadata": {},
   "outputs": [],
   "source": [
    "df_bank = df_risco_credito[df_risco_credito['ORGANIZATION_TYPE'] == 'Bank']"
   ]
  },
  {
   "cell_type": "code",
   "execution_count": null,
   "id": "362af0f7",
   "metadata": {},
   "outputs": [],
   "source": [
    "df_bank.groupby(df_risco_credito['OCCUPATION_TYPE']).size()"
   ]
  },
  {
   "cell_type": "markdown",
   "id": "b94eee08",
   "metadata": {},
   "source": [
    "#### horário:"
   ]
  },
  {
   "cell_type": "code",
   "execution_count": null,
   "id": "99edba0a",
   "metadata": {},
   "outputs": [],
   "source": [
    "bank_hora = df_bank['HOUR_APPR_PROCESS_START'].mode()"
   ]
  },
  {
   "cell_type": "code",
   "execution_count": null,
   "id": "bdbdea1e",
   "metadata": {},
   "outputs": [],
   "source": [
    "print(f'O horário que os trabalhadores do banco mais requisitam empréstimo é {bank_hora.values[0]}h e {bank_hora.values[1]}h')"
   ]
  },
  {
   "cell_type": "markdown",
   "id": "36ec0222",
   "metadata": {},
   "source": [
    "#### dia da semana:"
   ]
  },
  {
   "cell_type": "code",
   "execution_count": null,
   "id": "a3f09fc7",
   "metadata": {},
   "outputs": [],
   "source": [
    "bank_dia_semana = df_bank['WEEKDAY_APPR_PROCESS_START'].mode()"
   ]
  },
  {
   "cell_type": "code",
   "execution_count": null,
   "id": "bb2de074",
   "metadata": {},
   "outputs": [],
   "source": [
    "print(f'O dia que os trabalhadores do banco mais requisitam empréstimo é {bank_dia_semana.values[0]}')"
   ]
  },
  {
   "cell_type": "markdown",
   "id": "cc439177",
   "metadata": {},
   "source": [
    "### resultado compilado:"
   ]
  },
  {
   "cell_type": "code",
   "execution_count": null,
   "id": "261163e8",
   "metadata": {},
   "outputs": [],
   "source": [
    "bank_resultado = [bank_hora,bank_dia_semana]"
   ]
  },
  {
   "cell_type": "code",
   "execution_count": null,
   "id": "e01d4d1a",
   "metadata": {},
   "outputs": [],
   "source": [
    "resultado_bank = pd.concat(bank_resultado).set_axis(labels=['hora 01:','hora 02:','dia:'])"
   ]
  },
  {
   "cell_type": "code",
   "execution_count": null,
   "id": "dcf48056",
   "metadata": {},
   "outputs": [],
   "source": [
    "print(f'O resultado compilado é \\n{resultado_bank}')"
   ]
  },
  {
   "cell_type": "markdown",
   "id": "be5566dc",
   "metadata": {},
   "source": [
    "### GOVERNMENT"
   ]
  },
  {
   "cell_type": "code",
   "execution_count": null,
   "id": "678ff98e",
   "metadata": {},
   "outputs": [],
   "source": [
    "df_gov = df_risco_credito[df_risco_credito['ORGANIZATION_TYPE'] == 'Government']"
   ]
  },
  {
   "cell_type": "code",
   "execution_count": null,
   "id": "8c5c23a1",
   "metadata": {},
   "outputs": [],
   "source": [
    "df_gov.groupby(df_risco_credito['OCCUPATION_TYPE']).size()"
   ]
  },
  {
   "cell_type": "markdown",
   "id": "af2dd8a1",
   "metadata": {},
   "source": [
    "#### horário:"
   ]
  },
  {
   "cell_type": "code",
   "execution_count": null,
   "id": "b158c236",
   "metadata": {},
   "outputs": [],
   "source": [
    "gov_hora = df_gov['HOUR_APPR_PROCESS_START'].mode()"
   ]
  },
  {
   "cell_type": "code",
   "execution_count": null,
   "id": "bbe99ac1",
   "metadata": {},
   "outputs": [],
   "source": [
    "print(f'O horário que os trabalhadores do governo mais requisitam empréstimo é {gov_hora.values[0]}h')"
   ]
  },
  {
   "cell_type": "markdown",
   "id": "ffed8bc6",
   "metadata": {},
   "source": [
    "#### dia da semana:"
   ]
  },
  {
   "cell_type": "code",
   "execution_count": null,
   "id": "df06bfeb",
   "metadata": {},
   "outputs": [],
   "source": [
    "gov_dia_semana = df_gov['WEEKDAY_APPR_PROCESS_START'].mode()"
   ]
  },
  {
   "cell_type": "code",
   "execution_count": null,
   "id": "b777079b",
   "metadata": {},
   "outputs": [],
   "source": [
    "print(f'O dia que os trabalhadores do governo mais requisitam empréstimo é {gov_dia_semana.values[0]}')"
   ]
  },
  {
   "cell_type": "markdown",
   "id": "cc363b06",
   "metadata": {},
   "source": [
    "### resultado compilado:"
   ]
  },
  {
   "cell_type": "code",
   "execution_count": null,
   "id": "668fcdd9",
   "metadata": {},
   "outputs": [],
   "source": [
    "gov_resultado = [gov_hora,gov_dia_semana]"
   ]
  },
  {
   "cell_type": "code",
   "execution_count": null,
   "id": "5992b288",
   "metadata": {},
   "outputs": [],
   "source": [
    "resultado_gov = pd.concat(gov_resultado).set_axis(labels=['hora 01:','dia:'])"
   ]
  },
  {
   "cell_type": "code",
   "execution_count": null,
   "id": "4a6967c2",
   "metadata": {},
   "outputs": [],
   "source": [
    "print(f'O resultado compilado é \\n{resultado_gov}')"
   ]
  },
  {
   "cell_type": "markdown",
   "id": "b02b52c9",
   "metadata": {},
   "source": [
    "### Realizando a junção dos grupos de trabalhadores para ter uma ideia do dia e hora que ocorre mais requisições de financiamento."
   ]
  },
  {
   "cell_type": "code",
   "execution_count": null,
   "id": "0750a07a",
   "metadata": {},
   "outputs": [],
   "source": [
    "df_grupo_geral_organizacao = pd.concat([df_bank,df_gov])\n",
    "df_grupo_geral_organizacao"
   ]
  },
  {
   "cell_type": "code",
   "execution_count": null,
   "id": "4ec5bbf1",
   "metadata": {},
   "outputs": [],
   "source": [
    "df_grupo_hora = df_grupo_geral_organizacao['HOUR_APPR_PROCESS_START'].mode()\n",
    "df_grupo_hora"
   ]
  },
  {
   "cell_type": "code",
   "execution_count": null,
   "id": "272b2d83",
   "metadata": {},
   "outputs": [],
   "source": [
    "df_grupo_dia = df_grupo_geral_organizacao['WEEKDAY_APPR_PROCESS_START'].mode()\n",
    "df_grupo_dia"
   ]
  },
  {
   "cell_type": "code",
   "execution_count": null,
   "id": "25377e9f",
   "metadata": {},
   "outputs": [],
   "source": [
    "print(f'O horário que os trabalhadores mais requisitam empréstimo é {df_grupo_hora.values[0]}h e {df_grupo_hora.values[1]}h')"
   ]
  },
  {
   "cell_type": "code",
   "execution_count": null,
   "id": "a7a20530",
   "metadata": {},
   "outputs": [],
   "source": [
    "print(f'O dia que os trabalhadores mais requisitam empréstimo é {df_grupo_dia.values[0]}')"
   ]
  },
  {
   "cell_type": "markdown",
   "id": "bdc89c53",
   "metadata": {},
   "source": [
    "## 08) Qual a média de requisições de empréstimo entre trabalhadores com tipo de ocupação \"Sales staff\", que não moram com parentes, declararam não estarem em situação de emergência e possuem telefone de trabalho?"
   ]
  },
  {
   "cell_type": "code",
   "execution_count": null,
   "id": "60d907d3",
   "metadata": {},
   "outputs": [],
   "source": [
    "filtro = df_risco_credito[(df_risco_credito.OCCUPATION_TYPE == 'Sales staff') & (df_risco_credito.NAME_HOUSING_TYPE != 'With parents') & (df_risco_credito.EMERGENCYSTATE_MODE == 'No') & (df_risco_credito.FLAG_WORK_PHONE == 1)]"
   ]
  },
  {
   "cell_type": "code",
   "execution_count": null,
   "id": "c2718b2e",
   "metadata": {},
   "outputs": [],
   "source": [
    "df_media_req_trabalhador = filtro['AMT_CREDIT'].mean()\n",
    "df_media_req_trabalhador"
   ]
  },
  {
   "cell_type": "code",
   "execution_count": null,
   "id": "6a57c09e",
   "metadata": {},
   "outputs": [],
   "source": [
    "print(f'A média de requisições de empréstimo foi de R${df_media_req_trabalhador:.2f}')"
   ]
  },
  {
   "cell_type": "markdown",
   "id": "cd31510f",
   "metadata": {},
   "source": [
    "## 09) Como você explica a correlação entre o número de filhos e idade (em anos)?"
   ]
  },
  {
   "cell_type": "code",
   "execution_count": null,
   "id": "5b57bd4f",
   "metadata": {},
   "outputs": [],
   "source": [
    "correlacao_filhos_idade = df_risco_credito[['CNT_CHILDREN','DAYS_BIRTH']].corr()"
   ]
  },
  {
   "cell_type": "code",
   "execution_count": null,
   "id": "91cdfac5",
   "metadata": {},
   "outputs": [],
   "source": [
    "correlacao_filhos_idade"
   ]
  },
  {
   "cell_type": "code",
   "execution_count": null,
   "id": "2a83b82f",
   "metadata": {},
   "outputs": [],
   "source": [
    "print(\"Ainda que exista uma correlação negativa ou inversa, o valor obtido demonstra ser uma correlação do tipo fraca. Dessa forma, não há como determinar precisamente a eficácia entre quantidade de filhos e idade. Enfim, uma correlação não implica causalidade\")"
   ]
  },
  {
   "cell_type": "markdown",
   "id": "232ef6cf",
   "metadata": {},
   "source": [
    "## 10) Podemos concluir que, quanto mais tempo empregado, maior o crédito? Por que?"
   ]
  },
  {
   "cell_type": "code",
   "execution_count": null,
   "id": "3da989e6",
   "metadata": {},
   "outputs": [
    {
     "data": {
      "text/plain": [
       "50000    365243\n",
       "63863    365243\n",
       "63819    365243\n",
       "63840    365243\n",
       "19440    365243\n",
       "          ...  \n",
       "70429    -16495\n",
       "65681    -16499\n",
       "62757    -16538\n",
       "39095    -16849\n",
       "35191    -17531\n",
       "Name: DAYS_EMPLOYED, Length: 100000, dtype: int64"
      ]
     },
     "metadata": {},
     "output_type": "display_data"
    }
   ],
   "source": [
    "# Verificamos primeiramento como estão registrados o tempo que os trabalhadores estão empregados\n",
    "df_risco_credito['DAYS_EMPLOYED'].sort_values(ascending=False)"
   ]
  },
  {
   "cell_type": "code",
   "execution_count": null,
   "id": "65b6136e",
   "metadata": {
    "scrolled": true
   },
   "outputs": [
    {
     "data": {
      "text/plain": [
       " 365243    17865\n",
       "-230          56\n",
       "-139          50\n",
       "-212          50\n",
       "-205          48\n",
       "           ...  \n",
       "-7000          1\n",
       "-16121         1\n",
       "-10337         1\n",
       "-8396          1\n",
       "-4059          1\n",
       "Name: DAYS_EMPLOYED, Length: 9871, dtype: int64"
      ]
     },
     "metadata": {},
     "output_type": "display_data"
    }
   ],
   "source": [
    "# nesse caso, identificamos um outlier o qual indica um tempo de 365.243 dias = aproximadamente 1000 anos.\n",
    "df_risco_credito['DAYS_EMPLOYED'].value_counts().sort_values(ascending=False)"
   ]
  },
  {
   "cell_type": "code",
   "execution_count": null,
   "id": "378fc5ff",
   "metadata": {},
   "outputs": [
    {
     "data": {
      "text/plain": [
       "0"
      ]
     },
     "metadata": {},
     "output_type": "display_data"
    }
   ],
   "source": [
    "df_risco_credito['DAYS_EMPLOYED'].isnull().sum()"
   ]
  },
  {
   "cell_type": "code",
   "execution_count": null,
   "id": "99039f29",
   "metadata": {},
   "outputs": [
    {
     "data": {
      "text/plain": [
       "0"
      ]
     },
     "metadata": {},
     "output_type": "display_data"
    }
   ],
   "source": [
    "df_risco_credito['AMT_CREDIT'].isnull().sum()"
   ]
  },
  {
   "cell_type": "code",
   "execution_count": null,
   "id": "996d9a38",
   "metadata": {},
   "outputs": [
    {
     "data": {
      "text/plain": [
       "-230.0      56\n",
       "-139.0      50\n",
       "-212.0      50\n",
       "-384.0      48\n",
       "-200.0      48\n",
       "            ..\n",
       "-6363.0      1\n",
       "-10930.0     1\n",
       "-12518.0     1\n",
       "-16495.0     1\n",
       "-4059.0      1\n",
       "Name: DAYS_EMPLOYED, Length: 9870, dtype: int64"
      ]
     },
     "metadata": {},
     "output_type": "display_data"
    }
   ],
   "source": [
    "# Iremos atribuir None para o outlier tendo em vista que não é um número o qual condiz com a realidade, consideraremos o campo\n",
    "# como inexistente\n",
    "filtro = (df_risco_credito['DAYS_EMPLOYED'] == 365243)\n",
    "df_risco_credito[filtro] = np.nan # pode ser None ou np.nan\n",
    "df_risco_credito['DAYS_EMPLOYED'].value_counts().sort_values(ascending=False)"
   ]
  },
  {
   "cell_type": "code",
   "execution_count": null,
   "id": "f818e2a9",
   "metadata": {},
   "outputs": [
    {
     "data": {
      "text/html": [
       "<div>\n",
       "<style scoped>\n",
       "    .dataframe tbody tr th:only-of-type {\n",
       "        vertical-align: middle;\n",
       "    }\n",
       "\n",
       "    .dataframe tbody tr th {\n",
       "        vertical-align: top;\n",
       "    }\n",
       "\n",
       "    .dataframe thead th {\n",
       "        text-align: right;\n",
       "    }\n",
       "</style>\n",
       "<table border=\"1\" class=\"dataframe\">\n",
       "  <thead>\n",
       "    <tr style=\"text-align: right;\">\n",
       "      <th></th>\n",
       "      <th>DAYS_EMPLOYED</th>\n",
       "      <th>AMT_CREDIT</th>\n",
       "    </tr>\n",
       "  </thead>\n",
       "  <tbody>\n",
       "    <tr>\n",
       "      <th>0</th>\n",
       "      <td>-637.0</td>\n",
       "      <td>406597.5</td>\n",
       "    </tr>\n",
       "    <tr>\n",
       "      <th>1</th>\n",
       "      <td>-1188.0</td>\n",
       "      <td>1293502.5</td>\n",
       "    </tr>\n",
       "    <tr>\n",
       "      <th>2</th>\n",
       "      <td>-225.0</td>\n",
       "      <td>135000.0</td>\n",
       "    </tr>\n",
       "    <tr>\n",
       "      <th>3</th>\n",
       "      <td>-3039.0</td>\n",
       "      <td>312682.5</td>\n",
       "    </tr>\n",
       "    <tr>\n",
       "      <th>4</th>\n",
       "      <td>-3038.0</td>\n",
       "      <td>513000.0</td>\n",
       "    </tr>\n",
       "    <tr>\n",
       "      <th>...</th>\n",
       "      <td>...</td>\n",
       "      <td>...</td>\n",
       "    </tr>\n",
       "    <tr>\n",
       "      <th>99995</th>\n",
       "      <td>-232.0</td>\n",
       "      <td>755190.0</td>\n",
       "    </tr>\n",
       "    <tr>\n",
       "      <th>99996</th>\n",
       "      <td>-182.0</td>\n",
       "      <td>284400.0</td>\n",
       "    </tr>\n",
       "    <tr>\n",
       "      <th>99997</th>\n",
       "      <td>-4805.0</td>\n",
       "      <td>1262583.0</td>\n",
       "    </tr>\n",
       "    <tr>\n",
       "      <th>99998</th>\n",
       "      <td>-340.0</td>\n",
       "      <td>225000.0</td>\n",
       "    </tr>\n",
       "    <tr>\n",
       "      <th>99999</th>\n",
       "      <td>-3230.0</td>\n",
       "      <td>337500.0</td>\n",
       "    </tr>\n",
       "  </tbody>\n",
       "</table>\n",
       "<p>100000 rows × 2 columns</p>\n",
       "</div>"
      ],
      "text/plain": [
       "       DAYS_EMPLOYED  AMT_CREDIT\n",
       "0             -637.0    406597.5\n",
       "1            -1188.0   1293502.5\n",
       "2             -225.0    135000.0\n",
       "3            -3039.0    312682.5\n",
       "4            -3038.0    513000.0\n",
       "...              ...         ...\n",
       "99995         -232.0    755190.0\n",
       "99996         -182.0    284400.0\n",
       "99997        -4805.0   1262583.0\n",
       "99998         -340.0    225000.0\n",
       "99999        -3230.0    337500.0\n",
       "\n",
       "[100000 rows x 2 columns]"
      ]
     },
     "metadata": {},
     "output_type": "display_data"
    }
   ],
   "source": [
    "df_risco_credito[['DAYS_EMPLOYED','AMT_CREDIT']]"
   ]
  },
  {
   "cell_type": "code",
   "execution_count": null,
   "id": "93261100",
   "metadata": {},
   "outputs": [
    {
     "data": {
      "text/html": [
       "<div>\n",
       "<style scoped>\n",
       "    .dataframe tbody tr th:only-of-type {\n",
       "        vertical-align: middle;\n",
       "    }\n",
       "\n",
       "    .dataframe tbody tr th {\n",
       "        vertical-align: top;\n",
       "    }\n",
       "\n",
       "    .dataframe thead th {\n",
       "        text-align: right;\n",
       "    }\n",
       "</style>\n",
       "<table border=\"1\" class=\"dataframe\">\n",
       "  <thead>\n",
       "    <tr style=\"text-align: right;\">\n",
       "      <th></th>\n",
       "      <th>DAYS_EMPLOYED</th>\n",
       "      <th>AMT_CREDIT</th>\n",
       "    </tr>\n",
       "  </thead>\n",
       "  <tbody>\n",
       "    <tr>\n",
       "      <th>0</th>\n",
       "      <td>-637.0</td>\n",
       "      <td>406597.5</td>\n",
       "    </tr>\n",
       "    <tr>\n",
       "      <th>1</th>\n",
       "      <td>-1188.0</td>\n",
       "      <td>1293502.5</td>\n",
       "    </tr>\n",
       "    <tr>\n",
       "      <th>2</th>\n",
       "      <td>-225.0</td>\n",
       "      <td>135000.0</td>\n",
       "    </tr>\n",
       "    <tr>\n",
       "      <th>3</th>\n",
       "      <td>-3039.0</td>\n",
       "      <td>312682.5</td>\n",
       "    </tr>\n",
       "    <tr>\n",
       "      <th>4</th>\n",
       "      <td>-3038.0</td>\n",
       "      <td>513000.0</td>\n",
       "    </tr>\n",
       "    <tr>\n",
       "      <th>...</th>\n",
       "      <td>...</td>\n",
       "      <td>...</td>\n",
       "    </tr>\n",
       "    <tr>\n",
       "      <th>99995</th>\n",
       "      <td>-232.0</td>\n",
       "      <td>755190.0</td>\n",
       "    </tr>\n",
       "    <tr>\n",
       "      <th>99996</th>\n",
       "      <td>-182.0</td>\n",
       "      <td>284400.0</td>\n",
       "    </tr>\n",
       "    <tr>\n",
       "      <th>99997</th>\n",
       "      <td>-4805.0</td>\n",
       "      <td>1262583.0</td>\n",
       "    </tr>\n",
       "    <tr>\n",
       "      <th>99998</th>\n",
       "      <td>-340.0</td>\n",
       "      <td>225000.0</td>\n",
       "    </tr>\n",
       "    <tr>\n",
       "      <th>99999</th>\n",
       "      <td>-3230.0</td>\n",
       "      <td>337500.0</td>\n",
       "    </tr>\n",
       "  </tbody>\n",
       "</table>\n",
       "<p>82135 rows × 2 columns</p>\n",
       "</div>"
      ],
      "text/plain": [
       "       DAYS_EMPLOYED  AMT_CREDIT\n",
       "0             -637.0    406597.5\n",
       "1            -1188.0   1293502.5\n",
       "2             -225.0    135000.0\n",
       "3            -3039.0    312682.5\n",
       "4            -3038.0    513000.0\n",
       "...              ...         ...\n",
       "99995         -232.0    755190.0\n",
       "99996         -182.0    284400.0\n",
       "99997        -4805.0   1262583.0\n",
       "99998         -340.0    225000.0\n",
       "99999        -3230.0    337500.0\n",
       "\n",
       "[82135 rows x 2 columns]"
      ]
     },
     "metadata": {},
     "output_type": "display_data"
    }
   ],
   "source": [
    "# Faremos a filtragem removendo os valores NaN\n",
    "df_dias_empregado_credito_filtrar = df_risco_credito[['DAYS_EMPLOYED','AMT_CREDIT']]\n",
    "df_dias_empregado_credito_filtrar.dropna(how='all', inplace=True)\n",
    "df_dias_empregado_credito_filtrar"
   ]
  },
  {
   "cell_type": "code",
   "execution_count": null,
   "id": "38ac6b94",
   "metadata": {},
   "outputs": [],
   "source": [
    "df_dias_empregado_credito = df_dias_empregado_credito_filtrar"
   ]
  },
  {
   "cell_type": "code",
   "execution_count": null,
   "id": "2887fe71",
   "metadata": {},
   "outputs": [
    {
     "data": {
      "text/html": [
       "<div>\n",
       "<style scoped>\n",
       "    .dataframe tbody tr th:only-of-type {\n",
       "        vertical-align: middle;\n",
       "    }\n",
       "\n",
       "    .dataframe tbody tr th {\n",
       "        vertical-align: top;\n",
       "    }\n",
       "\n",
       "    .dataframe thead th {\n",
       "        text-align: right;\n",
       "    }\n",
       "</style>\n",
       "<table border=\"1\" class=\"dataframe\">\n",
       "  <thead>\n",
       "    <tr style=\"text-align: right;\">\n",
       "      <th></th>\n",
       "      <th>DAYS_EMPLOYED</th>\n",
       "      <th>AMT_CREDIT</th>\n",
       "    </tr>\n",
       "  </thead>\n",
       "  <tbody>\n",
       "    <tr>\n",
       "      <th>35191</th>\n",
       "      <td>-17531.0</td>\n",
       "      <td>284400.0</td>\n",
       "    </tr>\n",
       "    <tr>\n",
       "      <th>39095</th>\n",
       "      <td>-16849.0</td>\n",
       "      <td>84577.5</td>\n",
       "    </tr>\n",
       "    <tr>\n",
       "      <th>62757</th>\n",
       "      <td>-16538.0</td>\n",
       "      <td>239850.0</td>\n",
       "    </tr>\n",
       "    <tr>\n",
       "      <th>65681</th>\n",
       "      <td>-16499.0</td>\n",
       "      <td>225000.0</td>\n",
       "    </tr>\n",
       "    <tr>\n",
       "      <th>70429</th>\n",
       "      <td>-16495.0</td>\n",
       "      <td>940320.0</td>\n",
       "    </tr>\n",
       "    <tr>\n",
       "      <th>...</th>\n",
       "      <td>...</td>\n",
       "      <td>...</td>\n",
       "    </tr>\n",
       "    <tr>\n",
       "      <th>24160</th>\n",
       "      <td>-4.0</td>\n",
       "      <td>540000.0</td>\n",
       "    </tr>\n",
       "    <tr>\n",
       "      <th>88001</th>\n",
       "      <td>-4.0</td>\n",
       "      <td>990432.0</td>\n",
       "    </tr>\n",
       "    <tr>\n",
       "      <th>17355</th>\n",
       "      <td>-4.0</td>\n",
       "      <td>754740.0</td>\n",
       "    </tr>\n",
       "    <tr>\n",
       "      <th>19381</th>\n",
       "      <td>-4.0</td>\n",
       "      <td>1051294.5</td>\n",
       "    </tr>\n",
       "    <tr>\n",
       "      <th>23691</th>\n",
       "      <td>0.0</td>\n",
       "      <td>983299.5</td>\n",
       "    </tr>\n",
       "  </tbody>\n",
       "</table>\n",
       "<p>82135 rows × 2 columns</p>\n",
       "</div>"
      ],
      "text/plain": [
       "       DAYS_EMPLOYED  AMT_CREDIT\n",
       "35191       -17531.0    284400.0\n",
       "39095       -16849.0     84577.5\n",
       "62757       -16538.0    239850.0\n",
       "65681       -16499.0    225000.0\n",
       "70429       -16495.0    940320.0\n",
       "...              ...         ...\n",
       "24160           -4.0    540000.0\n",
       "88001           -4.0    990432.0\n",
       "17355           -4.0    754740.0\n",
       "19381           -4.0   1051294.5\n",
       "23691            0.0    983299.5\n",
       "\n",
       "[82135 rows x 2 columns]"
      ]
     },
     "metadata": {},
     "output_type": "display_data"
    }
   ],
   "source": [
    "# Exibindo as colunas DAYS_EMPLOYED e AMT_CREDIT e ordenando pela DAYS_EMPLOYED em ordem crescente\n",
    "df_dias_empregado_credito = df_dias_empregado_credito[['DAYS_EMPLOYED','AMT_CREDIT']].sort_values('DAYS_EMPLOYED', ascending=True)\n",
    "df_dias_empregado_credito"
   ]
  },
  {
   "cell_type": "code",
   "execution_count": null,
   "id": "f650806f",
   "metadata": {},
   "outputs": [
    {
     "data": {
      "text/html": [
       "<div>\n",
       "<style scoped>\n",
       "    .dataframe tbody tr th:only-of-type {\n",
       "        vertical-align: middle;\n",
       "    }\n",
       "\n",
       "    .dataframe tbody tr th {\n",
       "        vertical-align: top;\n",
       "    }\n",
       "\n",
       "    .dataframe thead th {\n",
       "        text-align: right;\n",
       "    }\n",
       "</style>\n",
       "<table border=\"1\" class=\"dataframe\">\n",
       "  <thead>\n",
       "    <tr style=\"text-align: right;\">\n",
       "      <th></th>\n",
       "      <th>DAYS_EMPLOYED</th>\n",
       "      <th>AMT_CREDIT</th>\n",
       "      <th>proporcao_dias_credito</th>\n",
       "    </tr>\n",
       "  </thead>\n",
       "  <tbody>\n",
       "    <tr>\n",
       "      <th>35191</th>\n",
       "      <td>-17531.0</td>\n",
       "      <td>284400.0</td>\n",
       "      <td>0.061642</td>\n",
       "    </tr>\n",
       "    <tr>\n",
       "      <th>39095</th>\n",
       "      <td>-16849.0</td>\n",
       "      <td>84577.5</td>\n",
       "      <td>0.199214</td>\n",
       "    </tr>\n",
       "    <tr>\n",
       "      <th>62757</th>\n",
       "      <td>-16538.0</td>\n",
       "      <td>239850.0</td>\n",
       "      <td>0.068951</td>\n",
       "    </tr>\n",
       "    <tr>\n",
       "      <th>65681</th>\n",
       "      <td>-16499.0</td>\n",
       "      <td>225000.0</td>\n",
       "      <td>0.073329</td>\n",
       "    </tr>\n",
       "    <tr>\n",
       "      <th>70429</th>\n",
       "      <td>-16495.0</td>\n",
       "      <td>940320.0</td>\n",
       "      <td>0.017542</td>\n",
       "    </tr>\n",
       "    <tr>\n",
       "      <th>...</th>\n",
       "      <td>...</td>\n",
       "      <td>...</td>\n",
       "      <td>...</td>\n",
       "    </tr>\n",
       "    <tr>\n",
       "      <th>24160</th>\n",
       "      <td>-4.0</td>\n",
       "      <td>540000.0</td>\n",
       "      <td>0.000007</td>\n",
       "    </tr>\n",
       "    <tr>\n",
       "      <th>88001</th>\n",
       "      <td>-4.0</td>\n",
       "      <td>990432.0</td>\n",
       "      <td>0.000004</td>\n",
       "    </tr>\n",
       "    <tr>\n",
       "      <th>17355</th>\n",
       "      <td>-4.0</td>\n",
       "      <td>754740.0</td>\n",
       "      <td>0.000005</td>\n",
       "    </tr>\n",
       "    <tr>\n",
       "      <th>19381</th>\n",
       "      <td>-4.0</td>\n",
       "      <td>1051294.5</td>\n",
       "      <td>0.000004</td>\n",
       "    </tr>\n",
       "    <tr>\n",
       "      <th>23691</th>\n",
       "      <td>0.0</td>\n",
       "      <td>983299.5</td>\n",
       "      <td>-0.000000</td>\n",
       "    </tr>\n",
       "  </tbody>\n",
       "</table>\n",
       "<p>82135 rows × 3 columns</p>\n",
       "</div>"
      ],
      "text/plain": [
       "       DAYS_EMPLOYED  AMT_CREDIT  proporcao_dias_credito\n",
       "35191       -17531.0    284400.0                0.061642\n",
       "39095       -16849.0     84577.5                0.199214\n",
       "62757       -16538.0    239850.0                0.068951\n",
       "65681       -16499.0    225000.0                0.073329\n",
       "70429       -16495.0    940320.0                0.017542\n",
       "...              ...         ...                     ...\n",
       "24160           -4.0    540000.0                0.000007\n",
       "88001           -4.0    990432.0                0.000004\n",
       "17355           -4.0    754740.0                0.000005\n",
       "19381           -4.0   1051294.5                0.000004\n",
       "23691            0.0    983299.5               -0.000000\n",
       "\n",
       "[82135 rows x 3 columns]"
      ]
     },
     "metadata": {},
     "output_type": "display_data"
    }
   ],
   "source": [
    "# Fazendo uma visualização da proporção entre o tempo empregado e o crédito concedido\n",
    "df_dias_empregado_credito['proporcao_dias_credito'] = (df_dias_empregado_credito['DAYS_EMPLOYED']/df_dias_empregado_credito['AMT_CREDIT'])*-1\n",
    "df_dias_empregado_credito"
   ]
  },
  {
   "cell_type": "code",
   "execution_count": null,
   "id": "7aab0af7",
   "metadata": {},
   "outputs": [
    {
     "data": {
      "text/html": [
       "<div>\n",
       "<style scoped>\n",
       "    .dataframe tbody tr th:only-of-type {\n",
       "        vertical-align: middle;\n",
       "    }\n",
       "\n",
       "    .dataframe tbody tr th {\n",
       "        vertical-align: top;\n",
       "    }\n",
       "\n",
       "    .dataframe thead th {\n",
       "        text-align: right;\n",
       "    }\n",
       "</style>\n",
       "<table border=\"1\" class=\"dataframe\">\n",
       "  <thead>\n",
       "    <tr style=\"text-align: right;\">\n",
       "      <th></th>\n",
       "      <th>DAYS_EMPLOYED</th>\n",
       "      <th>AMT_CREDIT</th>\n",
       "      <th>proporcao_dias_credito</th>\n",
       "    </tr>\n",
       "  </thead>\n",
       "  <tbody>\n",
       "    <tr>\n",
       "      <th>35191</th>\n",
       "      <td>-17531.0</td>\n",
       "      <td>284400.0</td>\n",
       "      <td>6.16%</td>\n",
       "    </tr>\n",
       "    <tr>\n",
       "      <th>39095</th>\n",
       "      <td>-16849.0</td>\n",
       "      <td>84577.5</td>\n",
       "      <td>19.92%</td>\n",
       "    </tr>\n",
       "    <tr>\n",
       "      <th>62757</th>\n",
       "      <td>-16538.0</td>\n",
       "      <td>239850.0</td>\n",
       "      <td>6.90%</td>\n",
       "    </tr>\n",
       "    <tr>\n",
       "      <th>65681</th>\n",
       "      <td>-16499.0</td>\n",
       "      <td>225000.0</td>\n",
       "      <td>7.33%</td>\n",
       "    </tr>\n",
       "    <tr>\n",
       "      <th>70429</th>\n",
       "      <td>-16495.0</td>\n",
       "      <td>940320.0</td>\n",
       "      <td>1.75%</td>\n",
       "    </tr>\n",
       "    <tr>\n",
       "      <th>...</th>\n",
       "      <td>...</td>\n",
       "      <td>...</td>\n",
       "      <td>...</td>\n",
       "    </tr>\n",
       "    <tr>\n",
       "      <th>24160</th>\n",
       "      <td>-4.0</td>\n",
       "      <td>540000.0</td>\n",
       "      <td>0.00%</td>\n",
       "    </tr>\n",
       "    <tr>\n",
       "      <th>88001</th>\n",
       "      <td>-4.0</td>\n",
       "      <td>990432.0</td>\n",
       "      <td>0.00%</td>\n",
       "    </tr>\n",
       "    <tr>\n",
       "      <th>17355</th>\n",
       "      <td>-4.0</td>\n",
       "      <td>754740.0</td>\n",
       "      <td>0.00%</td>\n",
       "    </tr>\n",
       "    <tr>\n",
       "      <th>19381</th>\n",
       "      <td>-4.0</td>\n",
       "      <td>1051294.5</td>\n",
       "      <td>0.00%</td>\n",
       "    </tr>\n",
       "    <tr>\n",
       "      <th>23691</th>\n",
       "      <td>0.0</td>\n",
       "      <td>983299.5</td>\n",
       "      <td>-0.00%</td>\n",
       "    </tr>\n",
       "  </tbody>\n",
       "</table>\n",
       "<p>82135 rows × 3 columns</p>\n",
       "</div>"
      ],
      "text/plain": [
       "       DAYS_EMPLOYED  AMT_CREDIT proporcao_dias_credito\n",
       "35191       -17531.0    284400.0                  6.16%\n",
       "39095       -16849.0     84577.5                 19.92%\n",
       "62757       -16538.0    239850.0                  6.90%\n",
       "65681       -16499.0    225000.0                  7.33%\n",
       "70429       -16495.0    940320.0                  1.75%\n",
       "...              ...         ...                    ...\n",
       "24160           -4.0    540000.0                  0.00%\n",
       "88001           -4.0    990432.0                  0.00%\n",
       "17355           -4.0    754740.0                  0.00%\n",
       "19381           -4.0   1051294.5                  0.00%\n",
       "23691            0.0    983299.5                 -0.00%\n",
       "\n",
       "[82135 rows x 3 columns]"
      ]
     },
     "metadata": {},
     "output_type": "display_data"
    }
   ],
   "source": [
    "# Fazendo uma visualização da proporção entre o tempo empregado e o crédito concedido\n",
    "\n",
    "df_dias_empregado_credito['proporcao_dias_credito'] = (df_dias_empregado_credito['DAYS_EMPLOYED']/df_dias_empregado_credito['AMT_CREDIT'])*-1\n",
    "df_dias_empregado_credito['proporcao_dias_credito'] = df_dias_empregado_credito['proporcao_dias_credito'].apply(lambda x:f'{x*100:.2f}%')\n",
    "df_dias_empregado_credito"
   ]
  },
  {
   "cell_type": "code",
   "execution_count": null,
   "id": "a29fbb4d",
   "metadata": {},
   "outputs": [
    {
     "data": {
      "text/html": [
       "<div>\n",
       "<style scoped>\n",
       "    .dataframe tbody tr th:only-of-type {\n",
       "        vertical-align: middle;\n",
       "    }\n",
       "\n",
       "    .dataframe tbody tr th {\n",
       "        vertical-align: top;\n",
       "    }\n",
       "\n",
       "    .dataframe thead th {\n",
       "        text-align: right;\n",
       "    }\n",
       "</style>\n",
       "<table border=\"1\" class=\"dataframe\">\n",
       "  <thead>\n",
       "    <tr style=\"text-align: right;\">\n",
       "      <th></th>\n",
       "      <th>DAYS_EMPLOYED</th>\n",
       "      <th>AMT_CREDIT</th>\n",
       "      <th>proporcao_dias_credito</th>\n",
       "    </tr>\n",
       "  </thead>\n",
       "  <tbody>\n",
       "    <tr>\n",
       "      <th>35191</th>\n",
       "      <td>-17531.0</td>\n",
       "      <td>284400.0</td>\n",
       "      <td>6.16%</td>\n",
       "    </tr>\n",
       "    <tr>\n",
       "      <th>39095</th>\n",
       "      <td>-16849.0</td>\n",
       "      <td>84577.5</td>\n",
       "      <td>19.92%</td>\n",
       "    </tr>\n",
       "    <tr>\n",
       "      <th>62757</th>\n",
       "      <td>-16538.0</td>\n",
       "      <td>239850.0</td>\n",
       "      <td>6.90%</td>\n",
       "    </tr>\n",
       "    <tr>\n",
       "      <th>65681</th>\n",
       "      <td>-16499.0</td>\n",
       "      <td>225000.0</td>\n",
       "      <td>7.33%</td>\n",
       "    </tr>\n",
       "    <tr>\n",
       "      <th>70429</th>\n",
       "      <td>-16495.0</td>\n",
       "      <td>940320.0</td>\n",
       "      <td>1.75%</td>\n",
       "    </tr>\n",
       "    <tr>\n",
       "      <th>...</th>\n",
       "      <td>...</td>\n",
       "      <td>...</td>\n",
       "      <td>...</td>\n",
       "    </tr>\n",
       "    <tr>\n",
       "      <th>24160</th>\n",
       "      <td>-4.0</td>\n",
       "      <td>540000.0</td>\n",
       "      <td>0.00%</td>\n",
       "    </tr>\n",
       "    <tr>\n",
       "      <th>88001</th>\n",
       "      <td>-4.0</td>\n",
       "      <td>990432.0</td>\n",
       "      <td>0.00%</td>\n",
       "    </tr>\n",
       "    <tr>\n",
       "      <th>17355</th>\n",
       "      <td>-4.0</td>\n",
       "      <td>754740.0</td>\n",
       "      <td>0.00%</td>\n",
       "    </tr>\n",
       "    <tr>\n",
       "      <th>19381</th>\n",
       "      <td>-4.0</td>\n",
       "      <td>1051294.5</td>\n",
       "      <td>0.00%</td>\n",
       "    </tr>\n",
       "    <tr>\n",
       "      <th>23691</th>\n",
       "      <td>0.0</td>\n",
       "      <td>983299.5</td>\n",
       "      <td>-0.00%</td>\n",
       "    </tr>\n",
       "  </tbody>\n",
       "</table>\n",
       "<p>82135 rows × 3 columns</p>\n",
       "</div>"
      ],
      "text/plain": [
       "       DAYS_EMPLOYED  AMT_CREDIT proporcao_dias_credito\n",
       "35191       -17531.0    284400.0                  6.16%\n",
       "39095       -16849.0     84577.5                 19.92%\n",
       "62757       -16538.0    239850.0                  6.90%\n",
       "65681       -16499.0    225000.0                  7.33%\n",
       "70429       -16495.0    940320.0                  1.75%\n",
       "...              ...         ...                    ...\n",
       "24160           -4.0    540000.0                  0.00%\n",
       "88001           -4.0    990432.0                  0.00%\n",
       "17355           -4.0    754740.0                  0.00%\n",
       "19381           -4.0   1051294.5                  0.00%\n",
       "23691            0.0    983299.5                 -0.00%\n",
       "\n",
       "[82135 rows x 3 columns]"
      ]
     },
     "metadata": {},
     "output_type": "display_data"
    }
   ],
   "source": [
    "df_dias_empregado_credito"
   ]
  },
  {
   "cell_type": "code",
   "execution_count": null,
   "id": "6e79e51f",
   "metadata": {},
   "outputs": [
    {
     "data": {
      "text/html": [
       "<div>\n",
       "<style scoped>\n",
       "    .dataframe tbody tr th:only-of-type {\n",
       "        vertical-align: middle;\n",
       "    }\n",
       "\n",
       "    .dataframe tbody tr th {\n",
       "        vertical-align: top;\n",
       "    }\n",
       "\n",
       "    .dataframe thead th {\n",
       "        text-align: right;\n",
       "    }\n",
       "</style>\n",
       "<table border=\"1\" class=\"dataframe\">\n",
       "  <thead>\n",
       "    <tr style=\"text-align: right;\">\n",
       "      <th></th>\n",
       "      <th>DAYS_EMPLOYED</th>\n",
       "      <th>AMT_CREDIT</th>\n",
       "    </tr>\n",
       "  </thead>\n",
       "  <tbody>\n",
       "    <tr>\n",
       "      <th>DAYS_EMPLOYED</th>\n",
       "      <td>1.000000</td>\n",
       "      <td>-0.092747</td>\n",
       "    </tr>\n",
       "    <tr>\n",
       "      <th>AMT_CREDIT</th>\n",
       "      <td>-0.092747</td>\n",
       "      <td>1.000000</td>\n",
       "    </tr>\n",
       "  </tbody>\n",
       "</table>\n",
       "</div>"
      ],
      "text/plain": [
       "               DAYS_EMPLOYED  AMT_CREDIT\n",
       "DAYS_EMPLOYED       1.000000   -0.092747\n",
       "AMT_CREDIT         -0.092747    1.000000"
      ]
     },
     "metadata": {},
     "output_type": "display_data"
    }
   ],
   "source": [
    "# Fazendo a correlação entre as colunas\n",
    "df_risco_credito[['DAYS_EMPLOYED','AMT_CREDIT']].corr()"
   ]
  },
  {
   "cell_type": "markdown",
   "id": "b0ddccde",
   "metadata": {},
   "source": [
    "### Resposta:\n",
    "### <font color=red>Não</font> <font color=blue>podemos concluir que, quanto mais tempo empregado, maior o crédito. Como podemos observar a correlação entre esses dois atributos é uma <font color=red>correlação muito fraca</font><font color=blue>.</font>"
   ]
  },
  {
   "cell_type": "markdown",
   "id": "0814b61b",
   "metadata": {},
   "source": [
    "## 11) Qual o desvio padrão da quantidade de filhos de quem tem 8 familiares?"
   ]
  },
  {
   "cell_type": "code",
   "execution_count": null,
   "id": "f74e8009",
   "metadata": {},
   "outputs": [],
   "source": [
    "df_risco_credito.groupby('CNT_FAM_MEMBERS')['CNT_CHILDREN'].describe()"
   ]
  },
  {
   "cell_type": "code",
   "execution_count": null,
   "id": "c3da96eb",
   "metadata": {},
   "outputs": [],
   "source": [
    "df_familia_8 = df_risco_credito[df_risco_credito['CNT_FAM_MEMBERS'] == 8 ]"
   ]
  },
  {
   "cell_type": "code",
   "execution_count": null,
   "id": "72d4ac68",
   "metadata": {},
   "outputs": [],
   "source": [
    "df_std_familia_8 = df_familia_8[['CNT_CHILDREN']]\n",
    "df_std_familia_8.std()"
   ]
  },
  {
   "cell_type": "code",
   "execution_count": null,
   "id": "f1595fd0",
   "metadata": {},
   "outputs": [],
   "source": [
    "print(f'A quantidade de filhos de quem tem 8 familiares teve como desvio padrão {df_std_familia_8.std()[0]}  ')"
   ]
  },
  {
   "cell_type": "markdown",
   "id": "585000c6",
   "metadata": {},
   "source": [
    "## 12) Quantos registros existem em que o número de filhos é maior que o número de familiares?"
   ]
  },
  {
   "cell_type": "code",
   "execution_count": null,
   "id": "48c679cc",
   "metadata": {},
   "outputs": [
    {
     "data": {
      "text/plain": [
       "CNT_CHILDREN       82135\n",
       "CNT_FAM_MEMBERS    82134\n",
       "dtype: int64"
      ]
     },
     "metadata": {},
     "output_type": "display_data"
    }
   ],
   "source": [
    "df_filhos_familiares = df_risco_credito[['CNT_CHILDREN','CNT_FAM_MEMBERS']].count()\n",
    "df_filhos_familiares"
   ]
  },
  {
   "cell_type": "code",
   "execution_count": null,
   "id": "2826c21e",
   "metadata": {},
   "outputs": [
    {
     "data": {
      "text/plain": [
       "0        0.0\n",
       "1        0.0\n",
       "2        0.0\n",
       "3        0.0\n",
       "4        0.0\n",
       "        ... \n",
       "99995    1.0\n",
       "99996    1.0\n",
       "99997    0.0\n",
       "99998    0.0\n",
       "99999    0.0\n",
       "Name: CNT_CHILDREN, Length: 100000, dtype: float64"
      ]
     },
     "metadata": {},
     "output_type": "display_data"
    }
   ],
   "source": [
    "df_criancas = df_risco_credito['CNT_CHILDREN']\n",
    "df_criancas"
   ]
  },
  {
   "cell_type": "code",
   "execution_count": null,
   "id": "028fe4c5",
   "metadata": {},
   "outputs": [
    {
     "data": {
      "text/plain": [
       "17865"
      ]
     },
     "metadata": {},
     "output_type": "display_data"
    }
   ],
   "source": [
    "df_criancas.isna().sum()"
   ]
  },
  {
   "cell_type": "code",
   "execution_count": null,
   "id": "5d9b4957",
   "metadata": {},
   "outputs": [
    {
     "data": {
      "text/plain": [
       "0"
      ]
     },
     "metadata": {},
     "output_type": "display_data"
    }
   ],
   "source": [
    "df_criancas.dropna(inplace=True)\n",
    "df_criancas.isna().sum()"
   ]
  },
  {
   "cell_type": "code",
   "execution_count": null,
   "id": "3a90a72a",
   "metadata": {},
   "outputs": [
    {
     "data": {
      "text/plain": [
       "0        1.0\n",
       "1        2.0\n",
       "2        1.0\n",
       "3        2.0\n",
       "4        1.0\n",
       "        ... \n",
       "99995    3.0\n",
       "99996    3.0\n",
       "99997    2.0\n",
       "99998    2.0\n",
       "99999    2.0\n",
       "Name: CNT_FAM_MEMBERS, Length: 100000, dtype: float64"
      ]
     },
     "metadata": {},
     "output_type": "display_data"
    }
   ],
   "source": [
    "df_familiares = df_risco_credito['CNT_FAM_MEMBERS']\n",
    "df_familiares"
   ]
  },
  {
   "cell_type": "code",
   "execution_count": null,
   "id": "e21f8cf4",
   "metadata": {},
   "outputs": [
    {
     "data": {
      "text/plain": [
       "17866"
      ]
     },
     "metadata": {},
     "output_type": "display_data"
    }
   ],
   "source": [
    "df_familiares.isna().sum()"
   ]
  },
  {
   "cell_type": "code",
   "execution_count": null,
   "id": "dfb0ddc6",
   "metadata": {},
   "outputs": [
    {
     "data": {
      "text/plain": [
       "0"
      ]
     },
     "metadata": {},
     "output_type": "display_data"
    }
   ],
   "source": [
    "df_familiares.dropna(inplace=True)\n",
    "df_familiares.isna().sum()"
   ]
  },
  {
   "cell_type": "code",
   "execution_count": null,
   "id": "5f601834",
   "metadata": {},
   "outputs": [],
   "source": [
    "df_filhos_familiares = pd.concat([df_criancas,df_familiares], axis=1)"
   ]
  },
  {
   "cell_type": "code",
   "execution_count": null,
   "id": "b3489028",
   "metadata": {},
   "outputs": [
    {
     "data": {
      "text/html": [
       "<div>\n",
       "<style scoped>\n",
       "    .dataframe tbody tr th:only-of-type {\n",
       "        vertical-align: middle;\n",
       "    }\n",
       "\n",
       "    .dataframe tbody tr th {\n",
       "        vertical-align: top;\n",
       "    }\n",
       "\n",
       "    .dataframe thead th {\n",
       "        text-align: right;\n",
       "    }\n",
       "</style>\n",
       "<table border=\"1\" class=\"dataframe\">\n",
       "  <thead>\n",
       "    <tr style=\"text-align: right;\">\n",
       "      <th></th>\n",
       "      <th>CNT_CHILDREN</th>\n",
       "      <th>CNT_FAM_MEMBERS</th>\n",
       "    </tr>\n",
       "  </thead>\n",
       "  <tbody>\n",
       "    <tr>\n",
       "      <th>80948</th>\n",
       "      <td>12.0</td>\n",
       "      <td>14.0</td>\n",
       "    </tr>\n",
       "    <tr>\n",
       "      <th>34545</th>\n",
       "      <td>11.0</td>\n",
       "      <td>13.0</td>\n",
       "    </tr>\n",
       "    <tr>\n",
       "      <th>23881</th>\n",
       "      <td>9.0</td>\n",
       "      <td>10.0</td>\n",
       "    </tr>\n",
       "    <tr>\n",
       "      <th>12615</th>\n",
       "      <td>8.0</td>\n",
       "      <td>10.0</td>\n",
       "    </tr>\n",
       "    <tr>\n",
       "      <th>26195</th>\n",
       "      <td>7.0</td>\n",
       "      <td>9.0</td>\n",
       "    </tr>\n",
       "    <tr>\n",
       "      <th>...</th>\n",
       "      <td>...</td>\n",
       "      <td>...</td>\n",
       "    </tr>\n",
       "    <tr>\n",
       "      <th>40713</th>\n",
       "      <td>0.0</td>\n",
       "      <td>2.0</td>\n",
       "    </tr>\n",
       "    <tr>\n",
       "      <th>40717</th>\n",
       "      <td>0.0</td>\n",
       "      <td>1.0</td>\n",
       "    </tr>\n",
       "    <tr>\n",
       "      <th>40718</th>\n",
       "      <td>0.0</td>\n",
       "      <td>1.0</td>\n",
       "    </tr>\n",
       "    <tr>\n",
       "      <th>40719</th>\n",
       "      <td>0.0</td>\n",
       "      <td>2.0</td>\n",
       "    </tr>\n",
       "    <tr>\n",
       "      <th>99999</th>\n",
       "      <td>0.0</td>\n",
       "      <td>2.0</td>\n",
       "    </tr>\n",
       "  </tbody>\n",
       "</table>\n",
       "<p>82135 rows × 2 columns</p>\n",
       "</div>"
      ],
      "text/plain": [
       "       CNT_CHILDREN  CNT_FAM_MEMBERS\n",
       "80948          12.0             14.0\n",
       "34545          11.0             13.0\n",
       "23881           9.0             10.0\n",
       "12615           8.0             10.0\n",
       "26195           7.0              9.0\n",
       "...             ...              ...\n",
       "40713           0.0              2.0\n",
       "40717           0.0              1.0\n",
       "40718           0.0              1.0\n",
       "40719           0.0              2.0\n",
       "99999           0.0              2.0\n",
       "\n",
       "[82135 rows x 2 columns]"
      ]
     },
     "metadata": {},
     "output_type": "display_data"
    }
   ],
   "source": [
    "df_filhos_familiares.sort_values('CNT_CHILDREN',ascending=False)"
   ]
  },
  {
   "cell_type": "code",
   "execution_count": null,
   "id": "cd6bed8d",
   "metadata": {},
   "outputs": [],
   "source": [
    "df_resultado = pd.DataFrame()"
   ]
  },
  {
   "cell_type": "code",
   "execution_count": null,
   "id": "16e04427",
   "metadata": {},
   "outputs": [
    {
     "data": {
      "text/html": [
       "<div>\n",
       "<style scoped>\n",
       "    .dataframe tbody tr th:only-of-type {\n",
       "        vertical-align: middle;\n",
       "    }\n",
       "\n",
       "    .dataframe tbody tr th {\n",
       "        vertical-align: top;\n",
       "    }\n",
       "\n",
       "    .dataframe thead th {\n",
       "        text-align: right;\n",
       "    }\n",
       "</style>\n",
       "<table border=\"1\" class=\"dataframe\">\n",
       "  <thead>\n",
       "    <tr style=\"text-align: right;\">\n",
       "      <th></th>\n",
       "      <th>Nº Filhos &gt; Familiares</th>\n",
       "    </tr>\n",
       "  </thead>\n",
       "  <tbody>\n",
       "    <tr>\n",
       "      <th>0</th>\n",
       "      <td>0</td>\n",
       "    </tr>\n",
       "    <tr>\n",
       "      <th>1</th>\n",
       "      <td>0</td>\n",
       "    </tr>\n",
       "    <tr>\n",
       "      <th>2</th>\n",
       "      <td>0</td>\n",
       "    </tr>\n",
       "    <tr>\n",
       "      <th>3</th>\n",
       "      <td>0</td>\n",
       "    </tr>\n",
       "    <tr>\n",
       "      <th>4</th>\n",
       "      <td>0</td>\n",
       "    </tr>\n",
       "    <tr>\n",
       "      <th>...</th>\n",
       "      <td>...</td>\n",
       "    </tr>\n",
       "    <tr>\n",
       "      <th>99995</th>\n",
       "      <td>0</td>\n",
       "    </tr>\n",
       "    <tr>\n",
       "      <th>99996</th>\n",
       "      <td>0</td>\n",
       "    </tr>\n",
       "    <tr>\n",
       "      <th>99997</th>\n",
       "      <td>0</td>\n",
       "    </tr>\n",
       "    <tr>\n",
       "      <th>99998</th>\n",
       "      <td>0</td>\n",
       "    </tr>\n",
       "    <tr>\n",
       "      <th>99999</th>\n",
       "      <td>0</td>\n",
       "    </tr>\n",
       "  </tbody>\n",
       "</table>\n",
       "<p>82135 rows × 1 columns</p>\n",
       "</div>"
      ],
      "text/plain": [
       "       Nº Filhos > Familiares \n",
       "0                            0\n",
       "1                            0\n",
       "2                            0\n",
       "3                            0\n",
       "4                            0\n",
       "...                        ...\n",
       "99995                        0\n",
       "99996                        0\n",
       "99997                        0\n",
       "99998                        0\n",
       "99999                        0\n",
       "\n",
       "[82135 rows x 1 columns]"
      ]
     },
     "metadata": {},
     "output_type": "display_data"
    }
   ],
   "source": [
    "df_resultado['Nº Filhos > Familiares '] = df_filhos_familiares02.apply(lambda x:1 if x['CNT_CHILDREN'] > x['CNT_FAM_MEMBERS'] else 0,axis=1)\n",
    "df_resultado"
   ]
  },
  {
   "cell_type": "code",
   "execution_count": null,
   "id": "130e7e69",
   "metadata": {},
   "outputs": [
    {
     "data": {
      "text/plain": [
       "82135"
      ]
     },
     "metadata": {},
     "output_type": "display_data"
    }
   ],
   "source": [
    "df_resultado.value_counts().sum()"
   ]
  },
  {
   "cell_type": "markdown",
   "id": "d0d1cb15",
   "metadata": {},
   "source": [
    "### Resposta:\n",
    "### <font color=blue>Podemos concluir que, temos <font color=red>ZERO</font><font color=blue> registros em que o número de filhos é maior que o número de familiares.</font>"
   ]
  }
 ],
 "metadata": {
  "kernelspec": {
   "display_name": "Python 3.10.5 64-bit",
   "language": "python",
   "name": "python3"
  },
  "language_info": {
   "codemirror_mode": {
    "name": "ipython",
    "version": 3
   },
   "file_extension": ".py",
   "mimetype": "text/x-python",
   "name": "python",
   "nbconvert_exporter": "python",
   "pygments_lexer": "ipython3",
   "version": "3.10.5"
  },
  "vscode": {
   "interpreter": {
    "hash": "26de051ba29f2982a8de78e945f0abaf191376122a1563185a90213a26c5da77"
   }
  }
 },
 "nbformat": 4,
 "nbformat_minor": 5
}
