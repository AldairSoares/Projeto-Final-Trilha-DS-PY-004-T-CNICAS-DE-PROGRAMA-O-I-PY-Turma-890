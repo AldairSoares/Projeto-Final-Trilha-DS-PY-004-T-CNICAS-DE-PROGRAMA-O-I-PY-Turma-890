{
 "cells": [
  {
   "cell_type": "code",
   "execution_count": 2,
   "id": "b0d3a768",
   "metadata": {},
   "outputs": [],
   "source": [
    "import pandas as pd\n",
    "import numpy as np\n",
    "import warnings\n",
    "warnings.filterwarnings(\"ignore\")"
   ]
  },
  {
   "cell_type": "code",
   "execution_count": 228,
   "id": "71573036",
   "metadata": {},
   "outputs": [],
   "source": [
    "df = pd.read_csv('home_credit_default_risk_application_100000.csv')"
   ]
  },
  {
   "cell_type": "code",
   "execution_count": 229,
   "id": "da5e4106",
   "metadata": {},
   "outputs": [],
   "source": [
    "#listando as colunas que serão utilizadas para correlação\n",
    "\n",
    "selected_columns = ['SK_ID_CURR',\n",
    " 'TARGET',\n",
    " 'NAME_CONTRACT_TYPE',\n",
    " 'CODE_GENDER',\n",
    " 'FLAG_OWN_CAR',\n",
    " 'FLAG_OWN_REALTY',\n",
    " 'CNT_CHILDREN',\n",
    " 'AMT_INCOME_TOTAL',\n",
    " 'AMT_CREDIT',\n",
    " 'AMT_ANNUITY',\n",
    " 'AMT_GOODS_PRICE',\n",
    " #'NAME_TYPE_SUITE',\n",
    " #'NAME_INCOME_TYPE',\n",
    " 'NAME_EDUCATION_TYPE',\n",
    " 'NAME_FAMILY_STATUS',\n",
    " 'NAME_HOUSING_TYPE',\n",
    " #'REGION_POPULATION_RELATIVE',\n",
    " 'DAYS_BIRTH',\n",
    " 'DAYS_EMPLOYED',\n",
    " #'DAYS_REGISTRATION',\n",
    " #'DAYS_ID_PUBLISH',\n",
    " 'OWN_CAR_AGE',\n",
    " #'FLAG_MOBIL',\n",
    " #'FLAG_EMP_PHONE',\n",
    " 'FLAG_WORK_PHONE',\n",
    " 'FLAG_CONT_MOBILE',\n",
    " #'FLAG_PHONE',\n",
    " 'FLAG_EMAIL',\n",
    " 'OCCUPATION_TYPE',\n",
    " 'CNT_FAM_MEMBERS',\n",
    " 'REGION_RATING_CLIENT',\n",
    " #'REGION_RATING_CLIENT_W_CITY',\n",
    " 'WEEKDAY_APPR_PROCESS_START',\n",
    " 'HOUR_APPR_PROCESS_START',\n",
    " #'REG_REGION_NOT_LIVE_REGION',\n",
    " #'REG_REGION_NOT_WORK_REGION',\n",
    " #'LIVE_REGION_NOT_WORK_REGION',\n",
    " #'REG_CITY_NOT_LIVE_CITY',\n",
    " #'REG_CITY_NOT_WORK_CITY',\n",
    " #'LIVE_CITY_NOT_WORK_CITY',\n",
    " 'ORGANIZATION_TYPE',\n",
    "#  'EXT_SOURCE_1',\n",
    "#  'EXT_SOURCE_2',\n",
    "#  'EXT_SOURCE_3',\n",
    "#  'APARTMENTS_AVG',\n",
    "#  'BASEMENTAREA_AVG',\n",
    "#  'YEARS_BEGINEXPLUATATION_AVG',\n",
    "#  'YEARS_BUILD_AVG',\n",
    "#  'COMMONAREA_AVG',\n",
    "#  'ELEVATORS_AVG',\n",
    "#  'ENTRANCES_AVG',\n",
    "#  'FLOORSMAX_AVG',\n",
    "#  'FLOORSMIN_AVG',\n",
    "#  'LANDAREA_AVG',\n",
    "#  'LIVINGAPARTMENTS_AVG',\n",
    "#  'LIVINGAREA_AVG',\n",
    "#  'NONLIVINGAPARTMENTS_AVG',\n",
    "#  'NONLIVINGAREA_AVG',\n",
    "#  'APARTMENTS_MODE',\n",
    "#  'BASEMENTAREA_MODE',\n",
    "#  'YEARS_BEGINEXPLUATATION_MODE',\n",
    "#  'YEARS_BUILD_MODE',\n",
    "#  'COMMONAREA_MODE',\n",
    "#  'ELEVATORS_MODE',\n",
    "#  'ENTRANCES_MODE',\n",
    "#  'FLOORSMAX_MODE',\n",
    "#  'FLOORSMIN_MODE',\n",
    "#  'LANDAREA_MODE',\n",
    "#  'LIVINGAPARTMENTS_MODE',\n",
    "#  'LIVINGAREA_MODE',\n",
    "#  'NONLIVINGAPARTMENTS_MODE',\n",
    "#  'NONLIVINGAREA_MODE',\n",
    "#  'APARTMENTS_MEDI',\n",
    "#  'BASEMENTAREA_MEDI',\n",
    "#  'YEARS_BEGINEXPLUATATION_MEDI',\n",
    "#  'YEARS_BUILD_MEDI',\n",
    "#  'COMMONAREA_MEDI',\n",
    "#  'ELEVATORS_MEDI',\n",
    "#  'ENTRANCES_MEDI',\n",
    "#  'FLOORSMAX_MEDI',\n",
    "#  'FLOORSMIN_MEDI',\n",
    "#  'LANDAREA_MEDI',\n",
    "#  'LIVINGAPARTMENTS_MEDI',\n",
    "#  'LIVINGAREA_MEDI',\n",
    "#  'NONLIVINGAPARTMENTS_MEDI',\n",
    "#  'NONLIVINGAREA_MEDI',\n",
    "#  'FONDKAPREMONT_MODE',\n",
    " 'HOUSETYPE_MODE',\n",
    " #'TOTALAREA_MODE',\n",
    " 'WALLSMATERIAL_MODE',\n",
    " 'EMERGENCYSTATE_MODE',\n",
    "#  'OBS_30_CNT_SOCIAL_CIRCLE',\n",
    "#  'DEF_30_CNT_SOCIAL_CIRCLE',\n",
    "#  'OBS_60_CNT_SOCIAL_CIRCLE',\n",
    "#  'DEF_60_CNT_SOCIAL_CIRCLE',\n",
    " 'DAYS_LAST_PHONE_CHANGE',\n",
    "#  'FLAG_DOCUMENT_2',\n",
    "#  'FLAG_DOCUMENT_3',\n",
    "#  'FLAG_DOCUMENT_4',\n",
    "#  'FLAG_DOCUMENT_5',\n",
    "#  'FLAG_DOCUMENT_6',\n",
    "#  'FLAG_DOCUMENT_7',\n",
    "#  'FLAG_DOCUMENT_8',\n",
    "#  'FLAG_DOCUMENT_9',\n",
    "#  'FLAG_DOCUMENT_10',\n",
    "#  'FLAG_DOCUMENT_11',\n",
    "#  'FLAG_DOCUMENT_12',\n",
    "#  'FLAG_DOCUMENT_13',\n",
    "#  'FLAG_DOCUMENT_14',\n",
    "#  'FLAG_DOCUMENT_15',\n",
    "#  'FLAG_DOCUMENT_16',\n",
    "#  'FLAG_DOCUMENT_17',\n",
    "#  'FLAG_DOCUMENT_18',\n",
    "#  'FLAG_DOCUMENT_19',\n",
    "#  'FLAG_DOCUMENT_20',\n",
    "#  'FLAG_DOCUMENT_21',\n",
    " 'AMT_REQ_CREDIT_BUREAU_HOUR',\n",
    " 'AMT_REQ_CREDIT_BUREAU_DAY',\n",
    " 'AMT_REQ_CREDIT_BUREAU_WEEK',\n",
    " 'AMT_REQ_CREDIT_BUREAU_MON',\n",
    " 'AMT_REQ_CREDIT_BUREAU_QRT',\n",
    " 'AMT_REQ_CREDIT_BUREAU_YEAR']"
   ]
  },
  {
   "cell_type": "code",
   "execution_count": 230,
   "id": "f2f43520",
   "metadata": {},
   "outputs": [],
   "source": [
    "df_risco_credito = df[selected_columns]"
   ]
  },
  {
   "cell_type": "markdown",
   "id": "a5eafb2e",
   "metadata": {},
   "source": [
    "## 01) Qual é a idade, em anos, do titular mais jovem?"
   ]
  },
  {
   "cell_type": "code",
   "execution_count": null,
   "id": "a5b0cc04",
   "metadata": {},
   "outputs": [],
   "source": [
    "df_idade_cliente = df_risco_credito['DAYS_BIRTH']\n",
    "df_idade_cliente"
   ]
  },
  {
   "cell_type": "code",
   "execution_count": null,
   "id": "3d9209b4",
   "metadata": {},
   "outputs": [],
   "source": [
    "df_risco_credito.loc[:,'DAYS_BIRTH'] = df_idade_cliente.apply(lambda x:(x/365)*-1)"
   ]
  },
  {
   "cell_type": "code",
   "execution_count": null,
   "id": "9ba87707",
   "metadata": {},
   "outputs": [],
   "source": [
    "df_idade_crescente = df_risco_credito['DAYS_BIRTH'].sort_values(ascending=True)\n",
    "df_idade_crescente"
   ]
  },
  {
   "cell_type": "code",
   "execution_count": null,
   "id": "27aa49e1",
   "metadata": {},
   "outputs": [],
   "source": [
    "df_idade_mais_jovem = df_idade_crescente.round().head(1).values\n",
    "df_idade_mais_jovem"
   ]
  },
  {
   "cell_type": "code",
   "execution_count": null,
   "id": "1ec3acfe",
   "metadata": {
    "scrolled": true
   },
   "outputs": [],
   "source": [
    "print(f'A idade do titular mais jovem é de {df_idade_mais_jovem[0]:.0f} anos.')"
   ]
  },
  {
   "cell_type": "markdown",
   "id": "883d1484",
   "metadata": {},
   "source": [
    "## 02) Qual a média do valor de anuidade dos residentes em apartamentos maiores de 50 anos?"
   ]
  },
  {
   "cell_type": "code",
   "execution_count": null,
   "id": "640285f0",
   "metadata": {},
   "outputs": [],
   "source": [
    "# idade dos clientes\n",
    "df_idade = df_risco_credito['DAYS_BIRTH']\n",
    "df_idade"
   ]
  },
  {
   "cell_type": "code",
   "execution_count": null,
   "id": "789a0747",
   "metadata": {},
   "outputs": [],
   "source": [
    "# clientas maiores de 50 anos\n",
    "df_cliente_maior_50 = df_idade[df_idade > 50]\n",
    "df_cliente_maior_50"
   ]
  },
  {
   "cell_type": "code",
   "execution_count": null,
   "id": "77dabc52",
   "metadata": {},
   "outputs": [],
   "source": [
    "# tipos de moradias\n",
    "df_tipos_moradias = df_risco_credito['HOUSETYPE_MODE']\n",
    "df_tipos_moradias"
   ]
  },
  {
   "cell_type": "code",
   "execution_count": null,
   "id": "71f66ff3",
   "metadata": {},
   "outputs": [],
   "source": [
    "# montante anuidade geral\n",
    "df_montante_anuidade_geral = df_risco_credito['AMT_ANNUITY']\n",
    "df_montante_anuidade_geral"
   ]
  },
  {
   "cell_type": "code",
   "execution_count": null,
   "id": "d5440d34",
   "metadata": {},
   "outputs": [],
   "source": [
    "# clientes residentes em apartamento\n",
    "df_media_anuidade_residente_maior_50 = df_risco_credito.groupby((df_risco_credito['HOUSETYPE_MODE'] == 'block of flats') & (df_risco_credito['DAYS_BIRTH'] > 50))['AMT_ANNUITY'].mean()\n",
    "df_media_anuidade_residente_maior_50"
   ]
  },
  {
   "cell_type": "code",
   "execution_count": null,
   "id": "2a34e91a",
   "metadata": {},
   "outputs": [],
   "source": [
    "print(f\"A média do valor de anuidade dos residentes em apartamentos maiores de 50 anos é de R$ {df_media_anuidade_residente_maior_50[True]:.2f}\")"
   ]
  },
  {
   "cell_type": "markdown",
   "id": "e8032d49",
   "metadata": {},
   "source": [
    "## 03) Existe uma correlação forte entre ter imóvel próprio e ter carro próprio? Por que?"
   ]
  },
  {
   "cell_type": "code",
   "execution_count": null,
   "id": "fa4fc0b0",
   "metadata": {},
   "outputs": [],
   "source": [
    "# Mudando os valores da coluna para 1 onde for Y e 0 onde for N\n",
    "df_risco_credito['FLAG_OWN_REALTY'] = df_risco_credito['FLAG_OWN_REALTY'].apply(lambda x:1 if x==\"Y\" else 0)\n",
    "df_risco_credito['FLAG_OWN_REALTY'].astype(int)"
   ]
  },
  {
   "cell_type": "code",
   "execution_count": null,
   "id": "3f1d0a25",
   "metadata": {
    "scrolled": true
   },
   "outputs": [],
   "source": [
    "# Mudando os valores da coluna para 1 onde for Y e 0 onde for N\n",
    "df_risco_credito['FLAG_OWN_CAR'] = df_risco_credito['FLAG_OWN_CAR'].apply(lambda x:1 if x==\"Y\" else 0)\n",
    "df_risco_credito['FLAG_OWN_CAR'].astype(int)"
   ]
  },
  {
   "cell_type": "code",
   "execution_count": null,
   "id": "3567d801",
   "metadata": {
    "scrolled": true
   },
   "outputs": [],
   "source": [
    "# Verificando se há correlação entre ter imóvel próprio e carro próprio\n",
    "df_risco_credito[['FLAG_OWN_REALTY','FLAG_OWN_CAR']].corr()"
   ]
  },
  {
   "cell_type": "markdown",
   "id": "7ed12af6",
   "metadata": {},
   "source": [
    "## Resposta:\n",
    "### <font color= 'blue'>Pelo valor obtido, demonstra ser uma <font color='red'>correlação fraca</font>. <font color='blue'>Dessa forma, não há como determinar precisamente a eficácia entre ter imóvel próprio e ter carro próprio.</font>"
   ]
  }
 ],
 "metadata": {
  "kernelspec": {
   "display_name": "Python 3.10.4 64-bit",
   "language": "python",
   "name": "python3"
  },
  "language_info": {
   "codemirror_mode": {
    "name": "ipython",
    "version": 3
   },
   "file_extension": ".py",
   "mimetype": "text/x-python",
   "name": "python",
   "nbconvert_exporter": "python",
   "pygments_lexer": "ipython3",
   "version": "3.10.4"
  },
  "vscode": {
   "interpreter": {
    "hash": "d11a989913a681f18617051c1ea14c60fcb00902fbf9deca5c6fd0b8247f7daa"
   }
  }
 },
 "nbformat": 4,
 "nbformat_minor": 5
}
