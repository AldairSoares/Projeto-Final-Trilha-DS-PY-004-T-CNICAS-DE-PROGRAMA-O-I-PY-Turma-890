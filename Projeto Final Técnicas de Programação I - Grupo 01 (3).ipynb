{
 "cells": [
  {
   "cell_type": "code",
   "execution_count": 1,
   "id": "b0d3a768",
   "metadata": {},
   "outputs": [],
   "source": [
    "import pandas as pd\n",
    "import numpy as np\n",
    "import warnings\n",
    "warnings.filterwarnings(\"ignore\")"
   ]
  },
  {
   "cell_type": "code",
   "execution_count": 2,
   "id": "71573036",
   "metadata": {},
   "outputs": [],
   "source": [
    "df = pd.read_csv('home_credit_default_risk_application_100000.csv')"
   ]
  },
  {
   "cell_type": "code",
   "execution_count": 3,
   "id": "da5e4106",
   "metadata": {},
   "outputs": [],
   "source": [
    "#listando as colunas que serão utilizadas para correlação\n",
    "\n",
    "selected_columns = ['SK_ID_CURR',\n",
    " 'TARGET',\n",
    " 'NAME_CONTRACT_TYPE',\n",
    " 'CODE_GENDER',\n",
    " 'FLAG_OWN_CAR',\n",
    " 'FLAG_OWN_REALTY',\n",
    " 'CNT_CHILDREN',\n",
    " 'AMT_INCOME_TOTAL',\n",
    " 'AMT_CREDIT',\n",
    " 'AMT_ANNUITY',\n",
    " 'AMT_GOODS_PRICE',\n",
    " 'NAME_EDUCATION_TYPE',\n",
    " 'NAME_FAMILY_STATUS',\n",
    " 'NAME_HOUSING_TYPE',\n",
    " 'DAYS_BIRTH',\n",
    " 'DAYS_EMPLOYED',\n",
    " 'OWN_CAR_AGE',\n",
    " 'FLAG_WORK_PHONE',\n",
    " 'FLAG_CONT_MOBILE',\n",
    " 'FLAG_EMAIL',\n",
    " 'OCCUPATION_TYPE',\n",
    " 'CNT_FAM_MEMBERS',\n",
    " 'REGION_RATING_CLIENT',\n",
    " 'WEEKDAY_APPR_PROCESS_START',\n",
    " 'HOUR_APPR_PROCESS_START',\n",
    " 'ORGANIZATION_TYPE',\n",
    " 'HOUSETYPE_MODE',\n",
    " 'WALLSMATERIAL_MODE',\n",
    " 'EMERGENCYSTATE_MODE',\n",
    " 'DAYS_LAST_PHONE_CHANGE',\n",
    " 'AMT_REQ_CREDIT_BUREAU_HOUR',\n",
    " 'AMT_REQ_CREDIT_BUREAU_DAY',\n",
    " 'AMT_REQ_CREDIT_BUREAU_WEEK',\n",
    " 'AMT_REQ_CREDIT_BUREAU_MON',\n",
    " 'AMT_REQ_CREDIT_BUREAU_QRT',\n",
    " 'AMT_REQ_CREDIT_BUREAU_YEAR']"
   ]
  },
  {
   "cell_type": "code",
   "execution_count": 4,
   "id": "f2f43520",
   "metadata": {},
   "outputs": [],
   "source": [
    "df_risco_credito = df[selected_columns]"
   ]
  },
  {
   "cell_type": "markdown",
   "id": "a5eafb2e",
   "metadata": {},
   "source": [
    "## 01) Qual é a idade, em anos, do titular mais jovem?"
   ]
  },
  {
   "cell_type": "code",
   "execution_count": 5,
   "id": "a5b0cc04",
   "metadata": {},
   "outputs": [
    {
     "data": {
      "text/plain": [
       "0        -9461\n",
       "1       -16765\n",
       "2       -19046\n",
       "3       -19005\n",
       "4       -19932\n",
       "         ...  \n",
       "99995   -11838\n",
       "99996   -13429\n",
       "99997   -17626\n",
       "99998   -12420\n",
       "99999   -14808\n",
       "Name: DAYS_BIRTH, Length: 100000, dtype: int64"
      ]
     },
     "execution_count": 5,
     "metadata": {},
     "output_type": "execute_result"
    }
   ],
   "source": [
    "df_idade_cliente = df_risco_credito['DAYS_BIRTH']\n",
    "df_idade_cliente"
   ]
  },
  {
   "cell_type": "code",
   "execution_count": 6,
   "id": "3d9209b4",
   "metadata": {},
   "outputs": [],
   "source": [
    "df_risco_credito.loc[:,'DAYS_BIRTH'] = df_idade_cliente.apply(lambda x:(x/365)*-1)"
   ]
  },
  {
   "cell_type": "code",
   "execution_count": 7,
   "id": "9ba87707",
   "metadata": {},
   "outputs": [
    {
     "data": {
      "text/plain": [
       "53702    21.030137\n",
       "73870    21.041096\n",
       "48401    21.041096\n",
       "19115    21.041096\n",
       "65419    21.041096\n",
       "           ...    \n",
       "20863    68.991781\n",
       "49288    68.997260\n",
       "65237    69.002740\n",
       "79852    69.027397\n",
       "63316    69.043836\n",
       "Name: DAYS_BIRTH, Length: 100000, dtype: float64"
      ]
     },
     "execution_count": 7,
     "metadata": {},
     "output_type": "execute_result"
    }
   ],
   "source": [
    "df_idade_crescente = df_risco_credito['DAYS_BIRTH'].sort_values(ascending=True)\n",
    "df_idade_crescente"
   ]
  },
  {
   "cell_type": "code",
   "execution_count": 8,
   "id": "27aa49e1",
   "metadata": {},
   "outputs": [
    {
     "data": {
      "text/plain": [
       "array([21.])"
      ]
     },
     "execution_count": 8,
     "metadata": {},
     "output_type": "execute_result"
    }
   ],
   "source": [
    "df_idade_mais_jovem = df_idade_crescente.round().head(1).values\n",
    "df_idade_mais_jovem"
   ]
  },
  {
   "cell_type": "code",
   "execution_count": 9,
   "id": "1ec3acfe",
   "metadata": {
    "scrolled": true
   },
   "outputs": [
    {
     "name": "stdout",
     "output_type": "stream",
     "text": [
      "A idade do titular mais jovem é de 21 anos.\n"
     ]
    }
   ],
   "source": [
    "print(f'A idade do titular mais jovem é de {df_idade_mais_jovem[0]:.0f} anos.')"
   ]
  }
 ],
 "metadata": {
  "kernelspec": {
   "display_name": "Python 3.10.4 64-bit",
   "language": "python",
   "name": "python3"
  },
  "language_info": {
   "codemirror_mode": {
    "name": "ipython",
    "version": 3
   },
   "file_extension": ".py",
   "mimetype": "text/x-python",
   "name": "python",
   "nbconvert_exporter": "python",
   "pygments_lexer": "ipython3",
   "version": "3.10.4"
  },
  "vscode": {
   "interpreter": {
    "hash": "d11a989913a681f18617051c1ea14c60fcb00902fbf9deca5c6fd0b8247f7daa"
   }
  }
 },
 "nbformat": 4,
 "nbformat_minor": 5
}
